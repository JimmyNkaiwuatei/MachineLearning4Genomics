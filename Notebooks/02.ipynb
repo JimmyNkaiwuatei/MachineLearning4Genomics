{
 "cells": [
  {
   "cell_type": "markdown",
   "id": "voluntary-christian",
   "metadata": {},
   "source": [
    "## Feature Engineering\n",
    "\n",
    "Feature Engineering is the process of transforming raw data into features/input variables that are easily digested by algorithms. People think that data scientists often spend most of their time testing out various algorithms; however, the majority of performance gains generally come from well-crafted features.\n",
    "\n",
    "While performing feature engineering, it is critical to keep in mind the question that you are trying to answer. For the purposes of this exercise, we will be using ...genomic data, with an aims to answer the following questions:\n",
    "\n",
    "\n",
    "In this notebook, we will introduce the following types of feature engineering:\n",
    "- Feature pruning\n",
    "- Time-based features (month, year, etc)\n",
    "- One-hot encoding to create dummy variables\n",
    "- Extracting features from strings\n",
    "- Feature scaling\n",
    "- Data imputation / cleaning\n",
    "\n"
   ]
  },
  {
   "cell_type": "code",
   "execution_count": null,
   "id": "genetic-mentor",
   "metadata": {},
   "outputs": [],
   "source": []
  }
 ],
 "metadata": {
  "kernelspec": {
   "display_name": "Python 3",
   "language": "python",
   "name": "python3"
  },
  "language_info": {
   "codemirror_mode": {
    "name": "ipython",
    "version": 3
   },
   "file_extension": ".py",
   "mimetype": "text/x-python",
   "name": "python",
   "nbconvert_exporter": "python",
   "pygments_lexer": "ipython3",
   "version": "3.9.2"
  }
 },
 "nbformat": 4,
 "nbformat_minor": 5
}
