{
 "cells": [
  {
   "cell_type": "markdown",
   "id": "improved-finger",
   "metadata": {},
   "source": [
    "## Feature Engineering in Genomics\n",
    "\n",
    "Feature Engineering is the process of transforming raw data into features/input variables that are easily digested by algorithms. People think that data scientists often spend most of their time testing out various algorithms; however, the majority of performance gains generally come from well-crafted features.\n",
    "\n",
    "While performing feature engineering, it is critical to keep in mind the question that you are trying to answer. For the purposes of this exercise, we will be using ...genomic data, with an aims to answer the following questions:\n",
    "\n",
    "\n",
    "In this notebook, we will introduce the following types of feature engineering:\n",
    "- Feature pruning\n",
    "- Time-based features (month, year, etc)\n",
    "- One-hot encoding to create dummy variables\n",
    "- Extracting features from strings\n",
    "- Feature scaling\n",
    "- Data imputation / cleaning\n",
    "\n",
    "How to transform your genomics data to fit into machine learning models"
   ]
  },
  {
   "cell_type": "code",
   "execution_count": 1,
   "id": "identical-anchor",
   "metadata": {},
   "outputs": [],
   "source": [
    "import pydna"
   ]
  },
  {
   "cell_type": "markdown",
   "id": "informed-coffee",
   "metadata": {},
   "source": [
    "### Converting DNA Sequence String into NumPy Array"
   ]
  },
  {
   "cell_type": "code",
   "execution_count": 2,
   "id": "affecting-treasury",
   "metadata": {},
   "outputs": [],
   "source": [
    "def dna_sequence_np_array(dna_sequence_string):\n",
    "    dna_sequence_array = None\n",
    "    try:\n",
    "        dna_sequence_string = dna_sequence_string.lower()   \n",
    "        regex_acgt = re.compile('[^acgt]') \n",
    "        if (regex_acgt.search(dna_sequence_string) == None):           \n",
    "            dna_sequence_array = np.array(list(dna_sequence_string))\n",
    "        else:       \n",
    "            dna_sequence_array = None    \n",
    "    except:               \n",
    "        print(PyDNA.get_exception_info())\n",
    "        if PyDNA._app_is_log: PyDNA.write_log_file(\"error\",   PyDNA.get_exception_info())  \n",
    "    return dna_sequence_array"
   ]
  },
  {
   "cell_type": "code",
   "execution_count": null,
   "id": "reflected-shoulder",
   "metadata": {},
   "outputs": [],
   "source": []
  }
 ],
 "metadata": {
  "kernelspec": {
   "display_name": "Python 3",
   "language": "python",
   "name": "python3"
  },
  "language_info": {
   "codemirror_mode": {
    "name": "ipython",
    "version": 3
   },
   "file_extension": ".py",
   "mimetype": "text/x-python",
   "name": "python",
   "nbconvert_exporter": "python",
   "pygments_lexer": "ipython3",
   "version": "3.9.2"
  }
 },
 "nbformat": 4,
 "nbformat_minor": 5
}
