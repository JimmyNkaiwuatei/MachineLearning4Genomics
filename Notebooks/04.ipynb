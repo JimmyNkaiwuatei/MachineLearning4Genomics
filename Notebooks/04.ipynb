{
 "cells": [
  {
   "cell_type": "markdown",
   "id": "august-sacrifice",
   "metadata": {},
   "source": [
    "## Using Machine Learnin and Natural Language Tutorial\n",
    "\n",
    "We are using the Tutorial from [here](https://www.theaidream.com/post/demystify-dna-sequencing-with-machine-learning-and-python)\n",
    "\n",
    "Use case: Build a classification model that is trained on the human DNA sequence and can predict a gene family based on the DNA sequence of the coding sequence. To test the model, we will use the DNA sequence of humans, dogs, and chimpanzees and compare the accuracies.\n",
    "\n",
    "Gene families are groups of related genes that share a common ancestor. Members of gene families may be paralogs or orthologs. Gene paralogs are genes with similar sequences from within the same species while gene orthologs are genes with similar sequences in different species.\n",
    "\n",
    "The dataset contains human DNA sequence, Dog DNA sequence, and Chimpanzee DNA sequence.\n"
   ]
  },
  {
   "cell_type": "markdown",
   "id": "ahead-question",
   "metadata": {},
   "source": [
    "## First, Let's make some imports"
   ]
  },
  {
   "cell_type": "code",
   "execution_count": 1,
   "id": "prime-float",
   "metadata": {},
   "outputs": [],
   "source": [
    "import numpy as np\n",
    "import pandas as pd\n",
    "import matplotlib.pyplot as plt\n",
    "%matplotlib inline"
   ]
  },
  {
   "cell_type": "markdown",
   "id": "isolated-trade",
   "metadata": {},
   "source": [
    "### Then we can download the data"
   ]
  },
  {
   "cell_type": "code",
   "execution_count": 3,
   "id": "roman-pillow",
   "metadata": {},
   "outputs": [
    {
     "data": {
      "text/html": [
       "<div>\n",
       "<style scoped>\n",
       "    .dataframe tbody tr th:only-of-type {\n",
       "        vertical-align: middle;\n",
       "    }\n",
       "\n",
       "    .dataframe tbody tr th {\n",
       "        vertical-align: top;\n",
       "    }\n",
       "\n",
       "    .dataframe thead th {\n",
       "        text-align: right;\n",
       "    }\n",
       "</style>\n",
       "<table border=\"1\" class=\"dataframe\">\n",
       "  <thead>\n",
       "    <tr style=\"text-align: right;\">\n",
       "      <th></th>\n",
       "      <th>sequence</th>\n",
       "      <th>class</th>\n",
       "    </tr>\n",
       "  </thead>\n",
       "  <tbody>\n",
       "    <tr>\n",
       "      <th>0</th>\n",
       "      <td>ATGCCCCAACTAAATACTACCGTATGGCCCACCATAATTACCCCCA...</td>\n",
       "      <td>4</td>\n",
       "    </tr>\n",
       "    <tr>\n",
       "      <th>1</th>\n",
       "      <td>ATGAACGAAAATCTGTTCGCTTCATTCATTGCCCCCACAATCCTAG...</td>\n",
       "      <td>4</td>\n",
       "    </tr>\n",
       "    <tr>\n",
       "      <th>2</th>\n",
       "      <td>ATGTGTGGCATTTGGGCGCTGTTTGGCAGTGATGATTGCCTTTCTG...</td>\n",
       "      <td>3</td>\n",
       "    </tr>\n",
       "    <tr>\n",
       "      <th>3</th>\n",
       "      <td>ATGTGTGGCATTTGGGCGCTGTTTGGCAGTGATGATTGCCTTTCTG...</td>\n",
       "      <td>3</td>\n",
       "    </tr>\n",
       "    <tr>\n",
       "      <th>4</th>\n",
       "      <td>ATGCAACAGCATTTTGAATTTGAATACCAGACCAAAGTGGATGGTG...</td>\n",
       "      <td>3</td>\n",
       "    </tr>\n",
       "  </tbody>\n",
       "</table>\n",
       "</div>"
      ],
      "text/plain": [
       "                                            sequence  class\n",
       "0  ATGCCCCAACTAAATACTACCGTATGGCCCACCATAATTACCCCCA...      4\n",
       "1  ATGAACGAAAATCTGTTCGCTTCATTCATTGCCCCCACAATCCTAG...      4\n",
       "2  ATGTGTGGCATTTGGGCGCTGTTTGGCAGTGATGATTGCCTTTCTG...      3\n",
       "3  ATGTGTGGCATTTGGGCGCTGTTTGGCAGTGATGATTGCCTTTCTG...      3\n",
       "4  ATGCAACAGCATTTTGAATTTGAATACCAGACCAAAGTGGATGGTG...      3"
      ]
     },
     "execution_count": 3,
     "metadata": {},
     "output_type": "execute_result"
    }
   ],
   "source": [
    "human_url = 'https://raw.githubusercontent.com/nageshsinghc4/DNA-Sequence-Machine-learning/master/human_data.txt'\n",
    "chimp_url = 'https://raw.githubusercontent.com/nageshsinghc4/DNA-Sequence-Machine-learning/master/chimp_data.txt'\n",
    "dog_url = 'https://raw.githubusercontent.com/nageshsinghc4/DNA-Sequence-Machine-learning/master/dog_data.txt'\n",
    "\n",
    "\n",
    "human_dna = pd.read_table(human_url)\n",
    "chimp_dna = pd.read_table(chimp_url)\n",
    "dog_dna = pd.read_table(dog_url)\n",
    "\n",
    "\n",
    "human_dna.head()"
   ]
  },
  {
   "cell_type": "markdown",
   "id": "suspended-longer",
   "metadata": {},
   "source": [
    "The class refers to \n",
    "\n",
    "![](https://static.wixstatic.com/media/3eee0b_06abe8649116492ea56ad4a64017260c~mv2.png/v1/fit/w_300,h_300,al_c,q_5/file.png)"
   ]
  },
  {
   "cell_type": "code",
   "execution_count": 4,
   "id": "assigned-remedy",
   "metadata": {},
   "outputs": [],
   "source": [
    "def Kmers_funct(seq, size=6):\n",
    "    return [seq[x:x+size].lower() for x in range(len(seq) - size + 1)]\n",
    "\n",
    "#convert our training data sequences into short overlapping k-mers of length 6. Lets do that for each species of data we have using our Kmers_funct function.\n",
    "human_dna['words'] = human_dna.apply(lambda x: Kmers_funct(x['sequence']), axis=1)\n",
    "human_dna = human_dna.drop('sequence', axis=1)\n",
    "chimp_dna['words'] = chimp_dna.apply(lambda x: Kmers_funct(x['sequence']), axis=1)\n",
    "chimp_dna = chimp_dna.drop('sequence', axis=1)\n",
    "dog_dna['words'] = dog_dna.apply(lambda x: Kmers_funct(x['sequence']), axis=1)\n",
    "dog_dna = dog_dna.drop('sequence', axis=1)"
   ]
  },
  {
   "cell_type": "markdown",
   "id": "stainless-sheffield",
   "metadata": {},
   "source": [
    "### Counts Plot"
   ]
  },
  {
   "cell_type": "code",
   "execution_count": 47,
   "id": "separated-latino",
   "metadata": {},
   "outputs": [
    {
     "data": {
      "text/plain": [
       "<AxesSubplot:>"
      ]
     },
     "execution_count": 47,
     "metadata": {},
     "output_type": "execute_result"
    },
    {
     "data": {
      "image/png": "[encoded data removed]",
      "text/plain": [
       "<Figure size 432x288 with 1 Axes>"
      ]
     },
     "metadata": {
      "needs_background": "light"
     },
     "output_type": "display_data"
    }
   ],
   "source": [
    "human_dna['class'].value_counts().sort_index().plot.bar()\n",
    "\n",
    "chimp_dna['class'].value_counts().sort_index().plot.bar()\n",
    "\n",
    "dog_dna['class'].value_counts().sort_index().plot.bar()"
   ]
  },
  {
   "cell_type": "code",
   "execution_count": 48,
   "id": "mediterranean-password",
   "metadata": {},
   "outputs": [
    {
     "data": {
      "text/html": [
       "<div>\n",
       "<style scoped>\n",
       "    .dataframe tbody tr th:only-of-type {\n",
       "        vertical-align: middle;\n",
       "    }\n",
       "\n",
       "    .dataframe tbody tr th {\n",
       "        vertical-align: top;\n",
       "    }\n",
       "\n",
       "    .dataframe thead th {\n",
       "        text-align: right;\n",
       "    }\n",
       "</style>\n",
       "<table border=\"1\" class=\"dataframe\">\n",
       "  <thead>\n",
       "    <tr style=\"text-align: right;\">\n",
       "      <th></th>\n",
       "      <th>class</th>\n",
       "      <th>words</th>\n",
       "    </tr>\n",
       "  </thead>\n",
       "  <tbody>\n",
       "    <tr>\n",
       "      <th>0</th>\n",
       "      <td>4</td>\n",
       "      <td>[atgccc, tgcccc, gcccca, ccccaa, cccaac, ccaac...</td>\n",
       "    </tr>\n",
       "    <tr>\n",
       "      <th>1</th>\n",
       "      <td>4</td>\n",
       "      <td>[atgaac, tgaacg, gaacga, aacgaa, acgaaa, cgaaa...</td>\n",
       "    </tr>\n",
       "    <tr>\n",
       "      <th>2</th>\n",
       "      <td>3</td>\n",
       "      <td>[atgtgt, tgtgtg, gtgtgg, tgtggc, gtggca, tggca...</td>\n",
       "    </tr>\n",
       "    <tr>\n",
       "      <th>3</th>\n",
       "      <td>3</td>\n",
       "      <td>[atgtgt, tgtgtg, gtgtgg, tgtggc, gtggca, tggca...</td>\n",
       "    </tr>\n",
       "    <tr>\n",
       "      <th>4</th>\n",
       "      <td>3</td>\n",
       "      <td>[atgcaa, tgcaac, gcaaca, caacag, aacagc, acagc...</td>\n",
       "    </tr>\n",
       "  </tbody>\n",
       "</table>\n",
       "</div>"
      ],
      "text/plain": [
       "   class                                              words\n",
       "0      4  [atgccc, tgcccc, gcccca, ccccaa, cccaac, ccaac...\n",
       "1      4  [atgaac, tgaacg, gaacga, aacgaa, acgaaa, cgaaa...\n",
       "2      3  [atgtgt, tgtgtg, gtgtgg, tgtggc, gtggca, tggca...\n",
       "3      3  [atgtgt, tgtgtg, gtgtgg, tgtggc, gtggca, tggca...\n",
       "4      3  [atgcaa, tgcaac, gcaaca, caacag, aacagc, acagc..."
      ]
     },
     "execution_count": 48,
     "metadata": {},
     "output_type": "execute_result"
    }
   ],
   "source": [
    "human_dna.head()"
   ]
  },
  {
   "cell_type": "markdown",
   "id": "separate-harmony",
   "metadata": {},
   "source": [
    "We need to now convert the lists of k-mers for each gene into string sentences of words that can be used to create the Bag of Words model. We will make a target variable y to hold the class labels.\n",
    "\n",
    "Let's do the same for chimp and dog. "
   ]
  },
  {
   "cell_type": "code",
   "execution_count": 9,
   "id": "suburban-handbook",
   "metadata": {},
   "outputs": [],
   "source": [
    "human_texts = list(human_dna['words'])\n",
    "for item in range(len(human_texts)):\n",
    "    human_texts[item] = ' '.join(human_texts[item])\n",
    "#separate labels\n",
    "y_human = human_dna.iloc[:, 0].values # y_human for human_dna\n",
    "\n",
    "#Now let's do the same for chimp and dog.\n",
    "chimp_texts = list(chimp_dna['words'])\n",
    "for item in range(len(chimp_texts)):\n",
    "    chimp_texts[item] = ' '.join(chimp_texts[item])\n",
    "#separate labels\n",
    "y_chim = chimp_dna.iloc[:, 0].values # y_chim for chimp_dna\n",
    "\n",
    "dog_texts = list(dog_dna['words'])\n",
    "for item in range(len(dog_texts)):\n",
    "    dog_texts[item] = ' '.join(dog_texts[item])\n",
    "#separate labels\n",
    "y_dog = dog_dna.iloc[:, 0].values  # y_dog for dog_dna"
   ]
  },
  {
   "cell_type": "markdown",
   "id": "acknowledged-monaco",
   "metadata": {},
   "source": [
    "Convert our k-mer words into uniform length numerical vectors that represent counts for every k-mer in the vocabulary:"
   ]
  },
  {
   "cell_type": "code",
   "execution_count": null,
   "id": "radical-sender",
   "metadata": {},
   "outputs": [],
   "source": []
  },
  {
   "cell_type": "code",
   "execution_count": 13,
   "id": "frequent-smile",
   "metadata": {},
   "outputs": [],
   "source": [
    "# Creating the Bag of Words model using CountVectorizer()\n",
    "# This is equivalent to k-mer counting\n",
    "# The n-gram size of 4 was previously determined by testing\n",
    "\n",
    "from sklearn.feature_extraction.text import CountVectorizer\n",
    "cv = CountVectorizer(ngram_range=(4,4)) #The n-gram size of 4 is previously determined by testing\n",
    "X_hum = cv.fit_transform(human_texts)\n",
    "X_chimp = cv.transform(chimp_texts)\n",
    "X_dog = cv.transform(dog_texts)"
   ]
  },
  {
   "cell_type": "markdown",
   "id": "exterior-passion",
   "metadata": {},
   "source": [
    "Let us have a look at the output;"
   ]
  },
  {
   "cell_type": "code",
   "execution_count": 14,
   "id": "vulnerable-license",
   "metadata": {},
   "outputs": [
    {
     "name": "stdout",
     "output_type": "stream",
     "text": [
      "(4380, 232414)\n",
      "(1682, 232414)\n",
      "(820, 232414)\n"
     ]
    }
   ],
   "source": [
    "print(X_hum.shape)\n",
    "print(X_chimp.shape)\n",
    "print(X_dog.shape)"
   ]
  },
  {
   "cell_type": "markdown",
   "id": "based-addiction",
   "metadata": {},
   "source": [
    "### Build a multinomial naive Bayes classifier\n",
    "\n",
    "Let's use the human data to train the model, holding out 20% of the human data to test the model. Then we can challenge the model’s generalizability by trying to predict sequence function in other species (the chimpanzee and dog).\n",
    "\n",
    "We split the data into train/test split human dataset and build simple multinomial naive Bayes classifier.\n",
    "\n",
    "For better models, you'll have to do parameter tuning and build a model with different ngram sizes. Let's first test out ngram size of 4 and a model alpha of 0.1.\n",
    "\n"
   ]
  },
  {
   "cell_type": "code",
   "execution_count": 15,
   "id": "occupational-controversy",
   "metadata": {},
   "outputs": [
    {
     "data": {
      "text/plain": [
       "MultinomialNB(alpha=0.1)"
      ]
     },
     "execution_count": 15,
     "metadata": {},
     "output_type": "execute_result"
    }
   ],
   "source": [
    "# Splitting the human dataset into the training set and test set\n",
    "from sklearn.model_selection import train_test_split\n",
    "\n",
    "X_train, X_test, y_train, y_test = train_test_split(X_hum,\n",
    "                                                   y_human,\n",
    "                                                   test_size = 0.20,\n",
    "                                                   random_state=42)\n",
    "                                                   \n",
    "### Multinomial Naive Bayes Classifier ###\n",
    "from sklearn.naive_bayes import MultinomialNB\n",
    "classifier = MultinomialNB(alpha=0.1)\n",
    "classifier.fit(X_train, y_train)"
   ]
  },
  {
   "cell_type": "code",
   "execution_count": 16,
   "id": "assigned-retention",
   "metadata": {},
   "outputs": [],
   "source": [
    "y_pred = classifier.predict(X_test)"
   ]
  },
  {
   "cell_type": "code",
   "execution_count": 17,
   "id": "accredited-serial",
   "metadata": {},
   "outputs": [
    {
     "name": "stdout",
     "output_type": "stream",
     "text": [
      "Confusion matrix for predictions on human test DNA sequence\n",
      "\n",
      "Predicted   0    1   2    3    4   5    6\n",
      "Actual                                   \n",
      "0          99    0   0    0    1   0    2\n",
      "1           0  104   0    0    0   0    2\n",
      "2           0    0  78    0    0   0    0\n",
      "3           0    0   0  124    0   0    1\n",
      "4           1    0   0    0  143   0    5\n",
      "5           0    0   0    0    0  51    0\n",
      "6           1    0   0    1    0   0  263\n",
      "accuracy = 0.984 \n",
      "precision = 0.984 \n",
      "recall = 0.984 \n",
      "f1 = 0.984\n"
     ]
    }
   ],
   "source": [
    "from sklearn.metrics import accuracy_score, f1_score, precision_score, recall_score\n",
    "\n",
    "print(\"Confusion matrix for predictions on human test DNA sequence\\n\")\n",
    "\n",
    "print(pd.crosstab(pd.Series(y_test, name='Actual'), pd.Series(y_pred, name='Predicted')))\n",
    "\n",
    "def get_metrics(y_test, y_predicted):\n",
    "    accuracy = accuracy_score(y_test, y_predicted)\n",
    "    precision = precision_score(y_test, y_predicted, average='weighted')\n",
    "    recall = recall_score(y_test, y_predicted, average='weighted')\n",
    "    f1 = f1_score(y_test, y_predicted, average='weighted')\n",
    "    return accuracy, precision, recall, f1\n",
    "   \n",
    "accuracy, precision, recall, f1 = get_metrics(y_test, y_pred)\n",
    "\n",
    "print(\"accuracy = %.3f \\nprecision = %.3f \\nrecall = %.3f \\nf1 = %.3f\" % (accuracy, precision, recall, f1))"
   ]
  },
  {
   "cell_type": "code",
   "execution_count": 18,
   "id": "great-latter",
   "metadata": {},
   "outputs": [],
   "source": [
    "# Predicting the chimp, dog and worm sequences\n",
    "y_pred_chimp = classifier.predict(X_chimp)"
   ]
  },
  {
   "cell_type": "code",
   "execution_count": 19,
   "id": "demanding-south",
   "metadata": {},
   "outputs": [
    {
     "name": "stdout",
     "output_type": "stream",
     "text": [
      "Confusion matrix for predictions on Chimpanzee test DNA sequence\n",
      "\n",
      "Predicted    0    1    2    3    4    5    6\n",
      "Actual                                      \n",
      "0          232    0    0    0    0    0    2\n",
      "1            0  184    0    0    0    0    1\n",
      "2            0    0  144    0    0    0    0\n",
      "3            0    0    0  227    0    0    1\n",
      "4            2    0    0    0  254    0    5\n",
      "5            0    0    0    0    0  109    0\n",
      "6            0    0    0    0    0    0  521\n",
      "accuracy = 0.993 \n",
      "precision = 0.994 \n",
      "recall = 0.993 \n",
      "f1 = 0.993\n"
     ]
    }
   ],
   "source": [
    "# performance on chimpanzee genes\n",
    "print(\"Confusion matrix for predictions on Chimpanzee test DNA sequence\\n\")\n",
    "print(pd.crosstab(pd.Series(y_chim, name='Actual'), pd.Series(y_pred_chimp, name='Predicted')))\n",
    "accuracy, precision, recall, f1 = get_metrics(y_chim, y_pred_chimp)\n",
    "print(\"accuracy = %.3f \\nprecision = %.3f \\nrecall = %.3f \\nf1 = %.3f\" % (accuracy, precision, recall, f1))"
   ]
  },
  {
   "cell_type": "markdown",
   "id": "amateur-client",
   "metadata": {},
   "source": [
    "#### Dog\n",
    "Now Let's have a look at the Dog sequences. "
   ]
  },
  {
   "cell_type": "code",
   "execution_count": 32,
   "id": "mathematical-produce",
   "metadata": {},
   "outputs": [
    {
     "data": {
      "text/html": [
       "<div>\n",
       "<style scoped>\n",
       "    .dataframe tbody tr th:only-of-type {\n",
       "        vertical-align: middle;\n",
       "    }\n",
       "\n",
       "    .dataframe tbody tr th {\n",
       "        vertical-align: top;\n",
       "    }\n",
       "\n",
       "    .dataframe thead th {\n",
       "        text-align: right;\n",
       "    }\n",
       "</style>\n",
       "<table border=\"1\" class=\"dataframe\">\n",
       "  <thead>\n",
       "    <tr style=\"text-align: right;\">\n",
       "      <th></th>\n",
       "      <th>0</th>\n",
       "    </tr>\n",
       "  </thead>\n",
       "  <tbody>\n",
       "    <tr>\n",
       "      <th>0</th>\n",
       "      <td>(0, 250)\\t1\\n  (0, 256)\\t1\\n  (0, 340)\\t1\\n ...</td>\n",
       "    </tr>\n",
       "    <tr>\n",
       "      <th>1</th>\n",
       "      <td>(0, 256)\\t1\\n  (0, 317)\\t1\\n  (0, 653)\\t1\\n ...</td>\n",
       "    </tr>\n",
       "    <tr>\n",
       "      <th>2</th>\n",
       "      <td>(0, 1082)\\t1\\n  (0, 2790)\\t1\\n  (0, 4200)\\t1...</td>\n",
       "    </tr>\n",
       "    <tr>\n",
       "      <th>3</th>\n",
       "      <td>(0, 904)\\t1\\n  (0, 1122)\\t1\\n  (0, 1314)\\t1\\...</td>\n",
       "    </tr>\n",
       "    <tr>\n",
       "      <th>4</th>\n",
       "      <td>(0, 193)\\t1\\n  (0, 764)\\t1\\n  (0, 1122)\\t1\\n...</td>\n",
       "    </tr>\n",
       "    <tr>\n",
       "      <th>...</th>\n",
       "      <td>...</td>\n",
       "    </tr>\n",
       "    <tr>\n",
       "      <th>815</th>\n",
       "      <td>(0, 678)\\t1\\n  (0, 1150)\\t1\\n  (0, 1175)\\t1\\...</td>\n",
       "    </tr>\n",
       "    <tr>\n",
       "      <th>816</th>\n",
       "      <td>(0, 21)\\t1\\n  (0, 82)\\t1\\n  (0, 131)\\t1\\n  (...</td>\n",
       "    </tr>\n",
       "    <tr>\n",
       "      <th>817</th>\n",
       "      <td>(0, 8)\\t1\\n  (0, 34)\\t1\\n  (0, 79)\\t1\\n  (0,...</td>\n",
       "    </tr>\n",
       "    <tr>\n",
       "      <th>818</th>\n",
       "      <td>(0, 291)\\t1\\n  (0, 1144)\\t1\\n  (0, 1324)\\t1\\...</td>\n",
       "    </tr>\n",
       "    <tr>\n",
       "      <th>819</th>\n",
       "      <td>(0, 18)\\t1\\n  (0, 60)\\t1\\n  (0, 70)\\t1\\n  (0...</td>\n",
       "    </tr>\n",
       "  </tbody>\n",
       "</table>\n",
       "<p>820 rows × 1 columns</p>\n",
       "</div>"
      ],
      "text/plain": [
       "                                                     0\n",
       "0      (0, 250)\\t1\\n  (0, 256)\\t1\\n  (0, 340)\\t1\\n ...\n",
       "1      (0, 256)\\t1\\n  (0, 317)\\t1\\n  (0, 653)\\t1\\n ...\n",
       "2      (0, 1082)\\t1\\n  (0, 2790)\\t1\\n  (0, 4200)\\t1...\n",
       "3      (0, 904)\\t1\\n  (0, 1122)\\t1\\n  (0, 1314)\\t1\\...\n",
       "4      (0, 193)\\t1\\n  (0, 764)\\t1\\n  (0, 1122)\\t1\\n...\n",
       "..                                                 ...\n",
       "815    (0, 678)\\t1\\n  (0, 1150)\\t1\\n  (0, 1175)\\t1\\...\n",
       "816    (0, 21)\\t1\\n  (0, 82)\\t1\\n  (0, 131)\\t1\\n  (...\n",
       "817    (0, 8)\\t1\\n  (0, 34)\\t1\\n  (0, 79)\\t1\\n  (0,...\n",
       "818    (0, 291)\\t1\\n  (0, 1144)\\t1\\n  (0, 1324)\\t1\\...\n",
       "819    (0, 18)\\t1\\n  (0, 60)\\t1\\n  (0, 70)\\t1\\n  (0...\n",
       "\n",
       "[820 rows x 1 columns]"
      ]
     },
     "execution_count": 32,
     "metadata": {},
     "output_type": "execute_result"
    }
   ],
   "source": [
    "pd.DataFrame(X_dog)"
   ]
  },
  {
   "cell_type": "code",
   "execution_count": 20,
   "id": "thirty-juvenile",
   "metadata": {},
   "outputs": [],
   "source": [
    "y_pred_dog = classifier.predict(X_dog)"
   ]
  },
  {
   "cell_type": "code",
   "execution_count": 21,
   "id": "cosmetic-monster",
   "metadata": {},
   "outputs": [
    {
     "name": "stdout",
     "output_type": "stream",
     "text": [
      "Confusion matrix for predictions on Dog test DNA sequence\n",
      "\n",
      "Predicted    0   1   2   3    4   5    6\n",
      "Actual                                  \n",
      "0          127   0   0   0    0   0    4\n",
      "1            0  63   0   0    1   0   11\n",
      "2            0   0  49   0    1   0   14\n",
      "3            1   0   0  81    2   0   11\n",
      "4            4   0   0   1  126   0    4\n",
      "5            4   0   0   0    1  53    2\n",
      "6            0   0   0   0    0   0  260\n",
      "accuracy = 0.926 \n",
      "precision = 0.934 \n",
      "recall = 0.926 \n",
      "f1 = 0.925\n"
     ]
    }
   ],
   "source": [
    "# performance on dog genes\n",
    "print(\"Confusion matrix for predictions on Dog test DNA sequence\\n\")\n",
    "print(pd.crosstab(pd.Series(y_dog, name='Actual'), pd.Series(y_pred_dog, name='Predicted')))\n",
    "accuracy, precision, recall, f1 = get_metrics(y_dog, y_pred_dog)\n",
    "print(\"accuracy = %.3f \\nprecision = %.3f \\nrecall = %.3f \\nf1 = %.3f\" % (accuracy, precision, recall, f1))"
   ]
  },
  {
   "cell_type": "markdown",
   "id": "sitting-adult",
   "metadata": {},
   "source": [
    "The model seems to produce good results on human data. It also does on Chimpanzee which is because the Chimpanzee and humans share the same genetic hierarchy. The performance of the dog is not quite as good which is because the dog is more diverging from humans than the chimpanzee.\n",
    "\n",
    "#### Model generalization \n",
    "We can see the model performs consistently well. Although the accuracy may not be that high. Note that these may not be the best performance measures, but they do give a good idea. \n",
    "\n",
    "Recall our lecture on model perfomance? What do you think we can use to improve on model performance?\n",
    "\n",
    "<br>"
   ]
  },
  {
   "cell_type": "code",
   "execution_count": 44,
   "id": "demographic-acquisition",
   "metadata": {},
   "outputs": [
    {
     "data": {
      "text/plain": [
       "<AxesSubplot:>"
      ]
     },
     "execution_count": 44,
     "metadata": {},
     "output_type": "execute_result"
    },
    {
     "data": {
      "image/png": "[encoded data removed]",
      "text/plain": [
       "<Figure size 432x288 with 1 Axes>"
      ]
     },
     "metadata": {
      "needs_background": "light"
     },
     "output_type": "display_data"
    }
   ],
   "source": []
  },
  {
   "cell_type": "code",
   "execution_count": 30,
   "id": "written-campbell",
   "metadata": {},
   "outputs": [],
   "source": [
    "from sklearn.preprocessing import StandardScaler, MinMaxScaler\n",
    "scaler = MinMaxScaler()\n",
    "\n",
    "from sklearn.linear_model import SGDClassifier\n",
    "from sklearn.ensemble import GradientBoostingClassifier\n",
    "\n",
    "#Accuracy metrics\n",
    "from sklearn.metrics import accuracy_score, classification_report, auc\n",
    "\n",
    "from sklearn import feature_selection\n",
    "\n",
    "#from sklearn.externals import joblib\n",
    "\n",
    "#from xgboost import XGBClassifier\n",
    "\n",
    "#import xgboost as xgb\n",
    "\n",
    "def train_sgd(feature_frame, feature_frame_p, y_train, y_test):\n",
    "    scaler = MinMaxScaler()\n",
    "    #Scale the train data\n",
    "    scaler.fit(feature_frame) \n",
    "    X_train = scaler.transform(feature_frame)\n",
    "\n",
    "    #Scale the test data as well\n",
    "    scaler.fit(feature_frame_p)\n",
    "    X_test = scaler.transform(feature_frame_p)\n",
    "    \n",
    "    clf = SGDClassifier()\n",
    "    clf.fit(X_train, y_train)\n",
    "    pred_sgd = clf.predict(X_test)\n",
    "    \n",
    "    return roc_auc_score(y_test, pred_sgd)\n",
    "\n",
    "def train_svm(feature_frame, feature_frame_p, y_train, y_test):\n",
    "    scaler = MinMaxScaler()\n",
    "    #Scale the train data\n",
    "    scaler.fit(feature_frame) \n",
    "    X_train = scaler.transform(feature_frame)\n",
    "\n",
    "    #Scale the test data as well\n",
    "    scaler.fit(feature_frame_p)\n",
    "    X_test = scaler.transform(feature_frame_p)\n",
    "    \n",
    "    clf = svm.SVC()\n",
    "    clf.fit(X_train, y_train)\n",
    "    pred_svm = clf.predict(X_test)\n",
    "    \n",
    "    return roc_auc_score(y_test, pred_svm)\n",
    "\n",
    "def train_xgb(feature_frame,feature_frame_p,y_train, y_test):\n",
    "    \n",
    "    xgdmat = xgb.DMatrix(feature_frame, y_train) \n",
    "    our_params = {'eta': 0.3, 'seed':0, 'subsample': 1, 'colsample_bytree': 1, \n",
    "                 'objective': 'binary:logistic', 'max_depth':6, 'min_child_weight':1} \n",
    "    my_model = xgb.train(our_params,xgdmat)\n",
    "    testdmat = xgb.DMatrix(feature_frame_p, y_test)\n",
    "    y_pred = my_model.predict(testdmat)\n",
    "    \n",
    "    return roc_auc_score(y_test, y_pred)\n",
    "\n",
    "def train_gradient(feature_frame,feature_frame_p,y_train, y_test):\n",
    "    clf = GradientBoostingClassifier()\n",
    "    clf.fit(feature_frame, y_train)\n",
    "    pred_sgd = clf.predict(feature_frame_p)\n",
    "\n",
    "    return roc_auc_score(y_test, pred_sgd)"
   ]
  },
  {
   "cell_type": "code",
   "execution_count": 33,
   "id": "heated-geneva",
   "metadata": {},
   "outputs": [],
   "source": [
    "from scipy.cluster.hierarchy import dendrogram,linkage"
   ]
  },
  {
   "cell_type": "code",
   "execution_count": 34,
   "id": "committed-think",
   "metadata": {},
   "outputs": [],
   "source": [
    "url =\"http://statweb.stanford.edu/~tibs/ElemStatLearn/datasets/nci.data\""
   ]
  },
  {
   "cell_type": "code",
   "execution_count": 38,
   "id": "primary-geneva",
   "metadata": {},
   "outputs": [],
   "source": [
    "labels = [\"CNS\",\"CNS\",\"CNS\",\"RENAL\",\"BREAST\",\"CNS\",\"CNS\",\"BREAST\",\"NSCLC\",\n",
    "          \"NSCLC\",\"RENAL\",\"RENAL\",\"RENAL\",\"RENAL\",\"RENAL\",\"RENAL\",\"RENAL\",\n",
    "          \"BREAST\",\"NSCLC\",\"RENAL\",\"UNKNOWN\",\"OVARIAN\",\"MELANOMA\",\"PROSTATE\",\n",
    "          \"OVARIAN\",\"OVARIAN\",\"OVARIAN\",\"OVARIAN\",\"OVARIAN\",\"PROSTATE\",\"NSCLC\",\n",
    "          \"NSCLC\",\"NSCLC\",\"LEUKEMIA\",\"K562B-repro\",\"K562A-repro\",\"LEUKEMIA\",\n",
    "          \"LEUKEMIA\",\"LEUKEMIA\",\"LEUKEMIA\",\"LEUKEMIA\",\"COLON\",\"COLON\",\"COLON\",\n",
    "          \"COLON\",\"COLON\",\"COLON\",\"COLON\",\"MCF7A-repro\",\"BREAST\",\"MCF7D-repro\",\n",
    "          \"BREAST\",\"NSCLC\",\"NSCLC\",\"NSCLC\",\"MELANOMA\",\"BREAST\",\"BREAST\",\"MELANOMA\",\n",
    "          \"MELANOMA\",\"MELANOMA\",\"MELANOMA\",\"MELANOMA\",\"MELANOMA\"]"
   ]
  },
  {
   "cell_type": "code",
   "execution_count": 42,
   "id": "actual-cruise",
   "metadata": {},
   "outputs": [
    {
     "data": {
      "text/plain": [
       "64"
      ]
     },
     "execution_count": 42,
     "metadata": {},
     "output_type": "execute_result"
    }
   ],
   "source": [
    "len(labels)"
   ]
  },
  {
   "cell_type": "code",
   "execution_count": 40,
   "id": "novel-satellite",
   "metadata": {},
   "outputs": [],
   "source": [
    "ma =pd.read_csv(url, delimiter=\"\\s*\", engine=\"python\")"
   ]
  }
 ],
 "metadata": {
  "kernelspec": {
   "display_name": "Python 3",
   "language": "python",
   "name": "python3"
  },
  "language_info": {
   "codemirror_mode": {
    "name": "ipython",
    "version": 3
   },
   "file_extension": ".py",
   "mimetype": "text/x-python",
   "name": "python",
   "nbconvert_exporter": "python",
   "pygments_lexer": "ipython3",
   "version": "3.9.2"
  }
 },
 "nbformat": 4,
 "nbformat_minor": 5
}
