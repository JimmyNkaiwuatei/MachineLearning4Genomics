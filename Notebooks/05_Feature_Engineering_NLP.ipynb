{
 "cells": [
  {
   "cell_type": "markdown",
   "id": "powered-planner",
   "metadata": {},
   "source": [
    "## Using Machine Learning and Natural Language Tutorial\n",
    "\n",
    "We are using the Tutorial from [here](https://www.theaidream.com/post/demystify-dna-sequencing-with-machine-learning-and-python)\n",
    "\n",
    "Use case: Build a classification model that is trained on the human DNA sequence and can predict a gene family based on the DNA sequence of the coding sequence. To test the model, we will use the DNA sequence of humans, dogs, and chimpanzees and compare the accuracies.\n",
    "\n",
    "Gene families are groups of related genes that share a common ancestor. Members of gene families may be paralogs or orthologs. Gene paralogs are genes with similar sequences from within the same species while gene orthologs are genes with similar sequences in different species.\n",
    "\n",
    "The dataset contains human DNA sequence, Dog DNA sequence, and Chimpanzee DNA sequence.\n"
   ]
  },
  {
   "cell_type": "markdown",
   "id": "maritime-click",
   "metadata": {},
   "source": [
    "## First, Let's make some imports"
   ]
  },
  {
   "cell_type": "code",
   "execution_count": 2,
   "id": "spanish-novelty",
   "metadata": {},
   "outputs": [],
   "source": [
    "import numpy as np\n",
    "import pandas as pd\n",
    "import matplotlib.pyplot as plt\n",
    "%matplotlib inline"
   ]
  },
  {
   "cell_type": "markdown",
   "id": "rational-eclipse",
   "metadata": {},
   "source": [
    "### Then we can download the data"
   ]
  },
  {
   "cell_type": "code",
   "execution_count": 3,
   "id": "auburn-bread",
   "metadata": {},
   "outputs": [
    {
     "data": {
      "text/html": [
       "<div>\n",
       "<style scoped>\n",
       "    .dataframe tbody tr th:only-of-type {\n",
       "        vertical-align: middle;\n",
       "    }\n",
       "\n",
       "    .dataframe tbody tr th {\n",
       "        vertical-align: top;\n",
       "    }\n",
       "\n",
       "    .dataframe thead th {\n",
       "        text-align: right;\n",
       "    }\n",
       "</style>\n",
       "<table border=\"1\" class=\"dataframe\">\n",
       "  <thead>\n",
       "    <tr style=\"text-align: right;\">\n",
       "      <th></th>\n",
       "      <th>sequence</th>\n",
       "      <th>class</th>\n",
       "    </tr>\n",
       "  </thead>\n",
       "  <tbody>\n",
       "    <tr>\n",
       "      <th>0</th>\n",
       "      <td>ATGCCCCAACTAAATACTACCGTATGGCCCACCATAATTACCCCCA...</td>\n",
       "      <td>4</td>\n",
       "    </tr>\n",
       "    <tr>\n",
       "      <th>1</th>\n",
       "      <td>ATGAACGAAAATCTGTTCGCTTCATTCATTGCCCCCACAATCCTAG...</td>\n",
       "      <td>4</td>\n",
       "    </tr>\n",
       "    <tr>\n",
       "      <th>2</th>\n",
       "      <td>ATGTGTGGCATTTGGGCGCTGTTTGGCAGTGATGATTGCCTTTCTG...</td>\n",
       "      <td>3</td>\n",
       "    </tr>\n",
       "    <tr>\n",
       "      <th>3</th>\n",
       "      <td>ATGTGTGGCATTTGGGCGCTGTTTGGCAGTGATGATTGCCTTTCTG...</td>\n",
       "      <td>3</td>\n",
       "    </tr>\n",
       "    <tr>\n",
       "      <th>4</th>\n",
       "      <td>ATGCAACAGCATTTTGAATTTGAATACCAGACCAAAGTGGATGGTG...</td>\n",
       "      <td>3</td>\n",
       "    </tr>\n",
       "    <tr>\n",
       "      <th>...</th>\n",
       "      <td>...</td>\n",
       "      <td>...</td>\n",
       "    </tr>\n",
       "    <tr>\n",
       "      <th>4375</th>\n",
       "      <td>ATGGAAGATTTGGAGGAAACATTATTTGAAGAATTTGAAAACTATT...</td>\n",
       "      <td>0</td>\n",
       "    </tr>\n",
       "    <tr>\n",
       "      <th>4376</th>\n",
       "      <td>ATGCAGTCCTTTCGGGAGCAAAGCAGTTACCACGGAAACCAGCAAA...</td>\n",
       "      <td>6</td>\n",
       "    </tr>\n",
       "    <tr>\n",
       "      <th>4377</th>\n",
       "      <td>ATGCAGTCCTTTCGGGAGCAAAGCAGTTACCACGGAAACCAGCAAA...</td>\n",
       "      <td>6</td>\n",
       "    </tr>\n",
       "    <tr>\n",
       "      <th>4378</th>\n",
       "      <td>ATGGGGCACCTGGTTTGCTGTCTGTGTGGCAAGTGGGCCAGTTACC...</td>\n",
       "      <td>6</td>\n",
       "    </tr>\n",
       "    <tr>\n",
       "      <th>4379</th>\n",
       "      <td>ATGCAGTCCTTTCGGGAGCAAAGCAGTTACCACGGAAACCAGCAAA...</td>\n",
       "      <td>6</td>\n",
       "    </tr>\n",
       "  </tbody>\n",
       "</table>\n",
       "<p>4380 rows × 2 columns</p>\n",
       "</div>"
      ],
      "text/plain": [
       "                                               sequence  class\n",
       "0     ATGCCCCAACTAAATACTACCGTATGGCCCACCATAATTACCCCCA...      4\n",
       "1     ATGAACGAAAATCTGTTCGCTTCATTCATTGCCCCCACAATCCTAG...      4\n",
       "2     ATGTGTGGCATTTGGGCGCTGTTTGGCAGTGATGATTGCCTTTCTG...      3\n",
       "3     ATGTGTGGCATTTGGGCGCTGTTTGGCAGTGATGATTGCCTTTCTG...      3\n",
       "4     ATGCAACAGCATTTTGAATTTGAATACCAGACCAAAGTGGATGGTG...      3\n",
       "...                                                 ...    ...\n",
       "4375  ATGGAAGATTTGGAGGAAACATTATTTGAAGAATTTGAAAACTATT...      0\n",
       "4376  ATGCAGTCCTTTCGGGAGCAAAGCAGTTACCACGGAAACCAGCAAA...      6\n",
       "4377  ATGCAGTCCTTTCGGGAGCAAAGCAGTTACCACGGAAACCAGCAAA...      6\n",
       "4378  ATGGGGCACCTGGTTTGCTGTCTGTGTGGCAAGTGGGCCAGTTACC...      6\n",
       "4379  ATGCAGTCCTTTCGGGAGCAAAGCAGTTACCACGGAAACCAGCAAA...      6\n",
       "\n",
       "[4380 rows x 2 columns]"
      ]
     },
     "execution_count": 3,
     "metadata": {},
     "output_type": "execute_result"
    }
   ],
   "source": [
    "human_url = 'https://raw.githubusercontent.com/nageshsinghc4/DNA-Sequence-Machine-learning/master/human_data.txt'\n",
    "chimp_url = 'https://raw.githubusercontent.com/nageshsinghc4/DNA-Sequence-Machine-learning/master/chimp_data.txt'\n",
    "dog_url = 'https://raw.githubusercontent.com/nageshsinghc4/DNA-Sequence-Machine-learning/master/dog_data.txt'\n",
    "\n",
    "\n",
    "human_dna = pd.read_table(human_url)\n",
    "chimp_dna = pd.read_table(chimp_url)\n",
    "dog_dna = pd.read_table(dog_url)\n",
    "\n",
    "\n",
    "human_dna"
   ]
  },
  {
   "cell_type": "markdown",
   "id": "accessory-warren",
   "metadata": {},
   "source": [
    "The class refers to \n",
    "\n",
    "![](https://static.wixstatic.com/media/3eee0b_06abe8649116492ea56ad4a64017260c~mv2.png/v1/fit/w_300,h_300,al_c,q_5/file.png)"
   ]
  },
  {
   "cell_type": "code",
   "execution_count": 6,
   "id": "played-protocol",
   "metadata": {},
   "outputs": [],
   "source": [
    "def Kmers_funct(seq, size=6):\n",
    "    return [seq[x:x+size].lower() for x in range(len(seq) - size + 1)]"
   ]
  },
  {
   "cell_type": "code",
   "execution_count": 7,
   "id": "overall-kingdom",
   "metadata": {},
   "outputs": [],
   "source": [
    "human_dna['words'] = human_dna.apply(lambda x: Kmers_funct(x['sequence']), axis=1)"
   ]
  },
  {
   "cell_type": "code",
   "execution_count": 8,
   "id": "wrong-billion",
   "metadata": {},
   "outputs": [
    {
     "data": {
      "text/html": [
       "<div>\n",
       "<style scoped>\n",
       "    .dataframe tbody tr th:only-of-type {\n",
       "        vertical-align: middle;\n",
       "    }\n",
       "\n",
       "    .dataframe tbody tr th {\n",
       "        vertical-align: top;\n",
       "    }\n",
       "\n",
       "    .dataframe thead th {\n",
       "        text-align: right;\n",
       "    }\n",
       "</style>\n",
       "<table border=\"1\" class=\"dataframe\">\n",
       "  <thead>\n",
       "    <tr style=\"text-align: right;\">\n",
       "      <th></th>\n",
       "      <th>sequence</th>\n",
       "      <th>class</th>\n",
       "      <th>words</th>\n",
       "    </tr>\n",
       "  </thead>\n",
       "  <tbody>\n",
       "    <tr>\n",
       "      <th>0</th>\n",
       "      <td>ATGCCCCAACTAAATACTACCGTATGGCCCACCATAATTACCCCCA...</td>\n",
       "      <td>4</td>\n",
       "      <td>[atgccc, tgcccc, gcccca, ccccaa, cccaac, ccaac...</td>\n",
       "    </tr>\n",
       "    <tr>\n",
       "      <th>1</th>\n",
       "      <td>ATGAACGAAAATCTGTTCGCTTCATTCATTGCCCCCACAATCCTAG...</td>\n",
       "      <td>4</td>\n",
       "      <td>[atgaac, tgaacg, gaacga, aacgaa, acgaaa, cgaaa...</td>\n",
       "    </tr>\n",
       "    <tr>\n",
       "      <th>2</th>\n",
       "      <td>ATGTGTGGCATTTGGGCGCTGTTTGGCAGTGATGATTGCCTTTCTG...</td>\n",
       "      <td>3</td>\n",
       "      <td>[atgtgt, tgtgtg, gtgtgg, tgtggc, gtggca, tggca...</td>\n",
       "    </tr>\n",
       "    <tr>\n",
       "      <th>3</th>\n",
       "      <td>ATGTGTGGCATTTGGGCGCTGTTTGGCAGTGATGATTGCCTTTCTG...</td>\n",
       "      <td>3</td>\n",
       "      <td>[atgtgt, tgtgtg, gtgtgg, tgtggc, gtggca, tggca...</td>\n",
       "    </tr>\n",
       "    <tr>\n",
       "      <th>4</th>\n",
       "      <td>ATGCAACAGCATTTTGAATTTGAATACCAGACCAAAGTGGATGGTG...</td>\n",
       "      <td>3</td>\n",
       "      <td>[atgcaa, tgcaac, gcaaca, caacag, aacagc, acagc...</td>\n",
       "    </tr>\n",
       "    <tr>\n",
       "      <th>...</th>\n",
       "      <td>...</td>\n",
       "      <td>...</td>\n",
       "      <td>...</td>\n",
       "    </tr>\n",
       "    <tr>\n",
       "      <th>4375</th>\n",
       "      <td>ATGGAAGATTTGGAGGAAACATTATTTGAAGAATTTGAAAACTATT...</td>\n",
       "      <td>0</td>\n",
       "      <td>[atggaa, tggaag, ggaaga, gaagat, aagatt, agatt...</td>\n",
       "    </tr>\n",
       "    <tr>\n",
       "      <th>4376</th>\n",
       "      <td>ATGCAGTCCTTTCGGGAGCAAAGCAGTTACCACGGAAACCAGCAAA...</td>\n",
       "      <td>6</td>\n",
       "      <td>[atgcag, tgcagt, gcagtc, cagtcc, agtcct, gtcct...</td>\n",
       "    </tr>\n",
       "    <tr>\n",
       "      <th>4377</th>\n",
       "      <td>ATGCAGTCCTTTCGGGAGCAAAGCAGTTACCACGGAAACCAGCAAA...</td>\n",
       "      <td>6</td>\n",
       "      <td>[atgcag, tgcagt, gcagtc, cagtcc, agtcct, gtcct...</td>\n",
       "    </tr>\n",
       "    <tr>\n",
       "      <th>4378</th>\n",
       "      <td>ATGGGGCACCTGGTTTGCTGTCTGTGTGGCAAGTGGGCCAGTTACC...</td>\n",
       "      <td>6</td>\n",
       "      <td>[atgggg, tggggc, ggggca, gggcac, ggcacc, gcacc...</td>\n",
       "    </tr>\n",
       "    <tr>\n",
       "      <th>4379</th>\n",
       "      <td>ATGCAGTCCTTTCGGGAGCAAAGCAGTTACCACGGAAACCAGCAAA...</td>\n",
       "      <td>6</td>\n",
       "      <td>[atgcag, tgcagt, gcagtc, cagtcc, agtcct, gtcct...</td>\n",
       "    </tr>\n",
       "  </tbody>\n",
       "</table>\n",
       "<p>4380 rows × 3 columns</p>\n",
       "</div>"
      ],
      "text/plain": [
       "                                               sequence  class  \\\n",
       "0     ATGCCCCAACTAAATACTACCGTATGGCCCACCATAATTACCCCCA...      4   \n",
       "1     ATGAACGAAAATCTGTTCGCTTCATTCATTGCCCCCACAATCCTAG...      4   \n",
       "2     ATGTGTGGCATTTGGGCGCTGTTTGGCAGTGATGATTGCCTTTCTG...      3   \n",
       "3     ATGTGTGGCATTTGGGCGCTGTTTGGCAGTGATGATTGCCTTTCTG...      3   \n",
       "4     ATGCAACAGCATTTTGAATTTGAATACCAGACCAAAGTGGATGGTG...      3   \n",
       "...                                                 ...    ...   \n",
       "4375  ATGGAAGATTTGGAGGAAACATTATTTGAAGAATTTGAAAACTATT...      0   \n",
       "4376  ATGCAGTCCTTTCGGGAGCAAAGCAGTTACCACGGAAACCAGCAAA...      6   \n",
       "4377  ATGCAGTCCTTTCGGGAGCAAAGCAGTTACCACGGAAACCAGCAAA...      6   \n",
       "4378  ATGGGGCACCTGGTTTGCTGTCTGTGTGGCAAGTGGGCCAGTTACC...      6   \n",
       "4379  ATGCAGTCCTTTCGGGAGCAAAGCAGTTACCACGGAAACCAGCAAA...      6   \n",
       "\n",
       "                                                  words  \n",
       "0     [atgccc, tgcccc, gcccca, ccccaa, cccaac, ccaac...  \n",
       "1     [atgaac, tgaacg, gaacga, aacgaa, acgaaa, cgaaa...  \n",
       "2     [atgtgt, tgtgtg, gtgtgg, tgtggc, gtggca, tggca...  \n",
       "3     [atgtgt, tgtgtg, gtgtgg, tgtggc, gtggca, tggca...  \n",
       "4     [atgcaa, tgcaac, gcaaca, caacag, aacagc, acagc...  \n",
       "...                                                 ...  \n",
       "4375  [atggaa, tggaag, ggaaga, gaagat, aagatt, agatt...  \n",
       "4376  [atgcag, tgcagt, gcagtc, cagtcc, agtcct, gtcct...  \n",
       "4377  [atgcag, tgcagt, gcagtc, cagtcc, agtcct, gtcct...  \n",
       "4378  [atgggg, tggggc, ggggca, gggcac, ggcacc, gcacc...  \n",
       "4379  [atgcag, tgcagt, gcagtc, cagtcc, agtcct, gtcct...  \n",
       "\n",
       "[4380 rows x 3 columns]"
      ]
     },
     "execution_count": 8,
     "metadata": {},
     "output_type": "execute_result"
    }
   ],
   "source": [
    "human_dna"
   ]
  },
  {
   "cell_type": "code",
   "execution_count": 9,
   "id": "victorian-brass",
   "metadata": {},
   "outputs": [],
   "source": [
    "#convert our training data sequences into short overlapping k-mers of length 6. Lets do that for each species of data we have using our Kmers_funct function.\n",
    "human_dna['words'] = human_dna.apply(lambda x: Kmers_funct(x['sequence']), axis=1)\n",
    "human_dna = human_dna.drop('sequence', axis=1)\n",
    "chimp_dna['words'] = chimp_dna.apply(lambda x: Kmers_funct(x['sequence']), axis=1)\n",
    "chimp_dna = chimp_dna.drop('sequence', axis=1)\n",
    "dog_dna['words'] = dog_dna.apply(lambda x: Kmers_funct(x['sequence']), axis=1)\n",
    "dog_dna = dog_dna.drop('sequence', axis=1)"
   ]
  },
  {
   "cell_type": "code",
   "execution_count": 10,
   "id": "lightweight-cookbook",
   "metadata": {},
   "outputs": [
    {
     "data": {
      "text/html": [
       "<div>\n",
       "<style scoped>\n",
       "    .dataframe tbody tr th:only-of-type {\n",
       "        vertical-align: middle;\n",
       "    }\n",
       "\n",
       "    .dataframe tbody tr th {\n",
       "        vertical-align: top;\n",
       "    }\n",
       "\n",
       "    .dataframe thead th {\n",
       "        text-align: right;\n",
       "    }\n",
       "</style>\n",
       "<table border=\"1\" class=\"dataframe\">\n",
       "  <thead>\n",
       "    <tr style=\"text-align: right;\">\n",
       "      <th></th>\n",
       "      <th>class</th>\n",
       "      <th>words</th>\n",
       "    </tr>\n",
       "  </thead>\n",
       "  <tbody>\n",
       "    <tr>\n",
       "      <th>0</th>\n",
       "      <td>4</td>\n",
       "      <td>[atgccc, tgcccc, gcccca, ccccaa, cccaac, ccaac...</td>\n",
       "    </tr>\n",
       "    <tr>\n",
       "      <th>1</th>\n",
       "      <td>4</td>\n",
       "      <td>[atgaac, tgaacg, gaacga, aacgaa, acgaaa, cgaaa...</td>\n",
       "    </tr>\n",
       "    <tr>\n",
       "      <th>2</th>\n",
       "      <td>3</td>\n",
       "      <td>[atgtgt, tgtgtg, gtgtgg, tgtggc, gtggca, tggca...</td>\n",
       "    </tr>\n",
       "    <tr>\n",
       "      <th>3</th>\n",
       "      <td>3</td>\n",
       "      <td>[atgtgt, tgtgtg, gtgtgg, tgtggc, gtggca, tggca...</td>\n",
       "    </tr>\n",
       "    <tr>\n",
       "      <th>4</th>\n",
       "      <td>3</td>\n",
       "      <td>[atgcaa, tgcaac, gcaaca, caacag, aacagc, acagc...</td>\n",
       "    </tr>\n",
       "    <tr>\n",
       "      <th>...</th>\n",
       "      <td>...</td>\n",
       "      <td>...</td>\n",
       "    </tr>\n",
       "    <tr>\n",
       "      <th>4375</th>\n",
       "      <td>0</td>\n",
       "      <td>[atggaa, tggaag, ggaaga, gaagat, aagatt, agatt...</td>\n",
       "    </tr>\n",
       "    <tr>\n",
       "      <th>4376</th>\n",
       "      <td>6</td>\n",
       "      <td>[atgcag, tgcagt, gcagtc, cagtcc, agtcct, gtcct...</td>\n",
       "    </tr>\n",
       "    <tr>\n",
       "      <th>4377</th>\n",
       "      <td>6</td>\n",
       "      <td>[atgcag, tgcagt, gcagtc, cagtcc, agtcct, gtcct...</td>\n",
       "    </tr>\n",
       "    <tr>\n",
       "      <th>4378</th>\n",
       "      <td>6</td>\n",
       "      <td>[atgggg, tggggc, ggggca, gggcac, ggcacc, gcacc...</td>\n",
       "    </tr>\n",
       "    <tr>\n",
       "      <th>4379</th>\n",
       "      <td>6</td>\n",
       "      <td>[atgcag, tgcagt, gcagtc, cagtcc, agtcct, gtcct...</td>\n",
       "    </tr>\n",
       "  </tbody>\n",
       "</table>\n",
       "<p>4380 rows × 2 columns</p>\n",
       "</div>"
      ],
      "text/plain": [
       "      class                                              words\n",
       "0         4  [atgccc, tgcccc, gcccca, ccccaa, cccaac, ccaac...\n",
       "1         4  [atgaac, tgaacg, gaacga, aacgaa, acgaaa, cgaaa...\n",
       "2         3  [atgtgt, tgtgtg, gtgtgg, tgtggc, gtggca, tggca...\n",
       "3         3  [atgtgt, tgtgtg, gtgtgg, tgtggc, gtggca, tggca...\n",
       "4         3  [atgcaa, tgcaac, gcaaca, caacag, aacagc, acagc...\n",
       "...     ...                                                ...\n",
       "4375      0  [atggaa, tggaag, ggaaga, gaagat, aagatt, agatt...\n",
       "4376      6  [atgcag, tgcagt, gcagtc, cagtcc, agtcct, gtcct...\n",
       "4377      6  [atgcag, tgcagt, gcagtc, cagtcc, agtcct, gtcct...\n",
       "4378      6  [atgggg, tggggc, ggggca, gggcac, ggcacc, gcacc...\n",
       "4379      6  [atgcag, tgcagt, gcagtc, cagtcc, agtcct, gtcct...\n",
       "\n",
       "[4380 rows x 2 columns]"
      ]
     },
     "execution_count": 10,
     "metadata": {},
     "output_type": "execute_result"
    }
   ],
   "source": [
    "human_dna"
   ]
  },
  {
   "cell_type": "code",
   "execution_count": 11,
   "id": "resident-commissioner",
   "metadata": {},
   "outputs": [
    {
     "data": {
      "text/plain": [
       "0       4\n",
       "1       4\n",
       "2       3\n",
       "3       3\n",
       "4       3\n",
       "       ..\n",
       "4375    0\n",
       "4376    6\n",
       "4377    6\n",
       "4378    6\n",
       "4379    6\n",
       "Name: class, Length: 4380, dtype: int64"
      ]
     },
     "execution_count": 11,
     "metadata": {},
     "output_type": "execute_result"
    }
   ],
   "source": [
    "human_dna['class']"
   ]
  },
  {
   "cell_type": "markdown",
   "id": "conditional-introduction",
   "metadata": {},
   "source": [
    "### Counts Plot"
   ]
  },
  {
   "cell_type": "code",
   "execution_count": 12,
   "id": "massive-draft",
   "metadata": {},
   "outputs": [
    {
     "data": {
      "text/plain": [
       "<AxesSubplot:>"
      ]
     },
     "execution_count": 12,
     "metadata": {},
     "output_type": "execute_result"
    },
    {
     "data": {
      "image/png": "[encoded data removed]",
      "text/plain": [
       "<Figure size 432x288 with 1 Axes>"
      ]
     },
     "metadata": {
      "needs_background": "light"
     },
     "output_type": "display_data"
    }
   ],
   "source": [
    "human_dna['class'].value_counts().sort_index().plot.bar()"
   ]
  },
  {
   "cell_type": "code",
   "execution_count": 13,
   "id": "painful-dover",
   "metadata": {},
   "outputs": [
    {
     "data": {
      "text/plain": [
       "<AxesSubplot:>"
      ]
     },
     "execution_count": 13,
     "metadata": {},
     "output_type": "execute_result"
    },
    {
     "data": {
      "image/png": "[encoded data removed]",
      "text/plain": [
       "<Figure size 432x288 with 1 Axes>"
      ]
     },
     "metadata": {
      "needs_background": "light"
     },
     "output_type": "display_data"
    }
   ],
   "source": [
    "chimp_dna['class'].value_counts().sort_index().plot.bar()"
   ]
  },
  {
   "cell_type": "code",
   "execution_count": 14,
   "id": "mature-glance",
   "metadata": {},
   "outputs": [
    {
     "data": {
      "text/plain": [
       "<AxesSubplot:>"
      ]
     },
     "execution_count": 14,
     "metadata": {},
     "output_type": "execute_result"
    },
    {
     "data": {
      "image/png": "[encoded data removed]",
      "text/plain": [
       "<Figure size 432x288 with 1 Axes>"
      ]
     },
     "metadata": {
      "needs_background": "light"
     },
     "output_type": "display_data"
    }
   ],
   "source": [
    "dog_dna['class'].value_counts().sort_index().plot.bar()"
   ]
  },
  {
   "cell_type": "code",
   "execution_count": 15,
   "id": "employed-relevance",
   "metadata": {},
   "outputs": [
    {
     "data": {
      "text/html": [
       "<div>\n",
       "<style scoped>\n",
       "    .dataframe tbody tr th:only-of-type {\n",
       "        vertical-align: middle;\n",
       "    }\n",
       "\n",
       "    .dataframe tbody tr th {\n",
       "        vertical-align: top;\n",
       "    }\n",
       "\n",
       "    .dataframe thead th {\n",
       "        text-align: right;\n",
       "    }\n",
       "</style>\n",
       "<table border=\"1\" class=\"dataframe\">\n",
       "  <thead>\n",
       "    <tr style=\"text-align: right;\">\n",
       "      <th></th>\n",
       "      <th>class</th>\n",
       "      <th>words</th>\n",
       "    </tr>\n",
       "  </thead>\n",
       "  <tbody>\n",
       "    <tr>\n",
       "      <th>0</th>\n",
       "      <td>4</td>\n",
       "      <td>[atgccc, tgcccc, gcccca, ccccaa, cccaac, ccaac...</td>\n",
       "    </tr>\n",
       "    <tr>\n",
       "      <th>1</th>\n",
       "      <td>4</td>\n",
       "      <td>[atgaac, tgaacg, gaacga, aacgaa, acgaaa, cgaaa...</td>\n",
       "    </tr>\n",
       "    <tr>\n",
       "      <th>2</th>\n",
       "      <td>3</td>\n",
       "      <td>[atgtgt, tgtgtg, gtgtgg, tgtggc, gtggca, tggca...</td>\n",
       "    </tr>\n",
       "    <tr>\n",
       "      <th>3</th>\n",
       "      <td>3</td>\n",
       "      <td>[atgtgt, tgtgtg, gtgtgg, tgtggc, gtggca, tggca...</td>\n",
       "    </tr>\n",
       "    <tr>\n",
       "      <th>4</th>\n",
       "      <td>3</td>\n",
       "      <td>[atgcaa, tgcaac, gcaaca, caacag, aacagc, acagc...</td>\n",
       "    </tr>\n",
       "  </tbody>\n",
       "</table>\n",
       "</div>"
      ],
      "text/plain": [
       "   class                                              words\n",
       "0      4  [atgccc, tgcccc, gcccca, ccccaa, cccaac, ccaac...\n",
       "1      4  [atgaac, tgaacg, gaacga, aacgaa, acgaaa, cgaaa...\n",
       "2      3  [atgtgt, tgtgtg, gtgtgg, tgtggc, gtggca, tggca...\n",
       "3      3  [atgtgt, tgtgtg, gtgtgg, tgtggc, gtggca, tggca...\n",
       "4      3  [atgcaa, tgcaac, gcaaca, caacag, aacagc, acagc..."
      ]
     },
     "execution_count": 15,
     "metadata": {},
     "output_type": "execute_result"
    }
   ],
   "source": [
    "human_dna.head()"
   ]
  },
  {
   "cell_type": "markdown",
   "id": "minute-cigarette",
   "metadata": {},
   "source": [
    "We need to now convert the lists of k-mers for each gene into string sentences of words that can be used to create the Bag of Words model. We will make a target variable y to hold the class labels.\n",
    "\n",
    "Let's do the same for chimp and dog. "
   ]
  },
  {
   "cell_type": "code",
   "execution_count": 16,
   "id": "behind-terrain",
   "metadata": {},
   "outputs": [],
   "source": [
    "human_texts = list(human_dna['words'])\n",
    "for item in range(len(human_texts)):\n",
    "    human_texts[item] = ' '.join(human_texts[item])"
   ]
  },
  {
   "cell_type": "code",
   "execution_count": 17,
   "id": "sensitive-reconstruction",
   "metadata": {
    "tags": []
   },
   "outputs": [
    {
     "data": {
      "text/plain": [
       "1413"
      ]
     },
     "execution_count": 17,
     "metadata": {},
     "output_type": "execute_result"
    }
   ],
   "source": [
    "len(human_texts[0])"
   ]
  },
  {
   "cell_type": "code",
   "execution_count": 18,
   "id": "pleased-august",
   "metadata": {},
   "outputs": [],
   "source": [
    "y_human = human_dna.iloc[:, 0].values # y_human for human_dna"
   ]
  },
  {
   "cell_type": "code",
   "execution_count": 19,
   "id": "extended-allocation",
   "metadata": {},
   "outputs": [
    {
     "data": {
      "text/plain": [
       "array([4, 4, 3, ..., 6, 6, 6])"
      ]
     },
     "execution_count": 19,
     "metadata": {},
     "output_type": "execute_result"
    }
   ],
   "source": [
    "y_human"
   ]
  },
  {
   "cell_type": "code",
   "execution_count": 20,
   "id": "double-agency",
   "metadata": {},
   "outputs": [],
   "source": [
    "human_texts = list(human_dna['words'])\n",
    "for item in range(len(human_texts)):\n",
    "    human_texts[item] = ' '.join(human_texts[item])\n",
    "#separate labels\n",
    "y_human = human_dna.iloc[:, 0].values # y_human for human_dna\n",
    "\n",
    "#Now let's do the same for chimp and dog.\n",
    "chimp_texts = list(chimp_dna['words'])\n",
    "for item in range(len(chimp_texts)):\n",
    "    chimp_texts[item] = ' '.join(chimp_texts[item])\n",
    "#separate labels\n",
    "y_chim = chimp_dna.iloc[:, 0].values # y_chim for chimp_dna\n",
    "\n",
    "dog_texts = list(dog_dna['words'])\n",
    "for item in range(len(dog_texts)):\n",
    "    dog_texts[item] = ' '.join(dog_texts[item])\n",
    "#separate labels\n",
    "y_dog = dog_dna.iloc[:, 0].values  # y_dog for dog_dna"
   ]
  },
  {
   "cell_type": "markdown",
   "id": "democratic-efficiency",
   "metadata": {},
   "source": [
    "Convert our k-mer words into uniform length numerical vectors that represent counts for every k-mer in the vocabulary:"
   ]
  },
  {
   "cell_type": "code",
   "execution_count": null,
   "id": "resistant-mozambique",
   "metadata": {},
   "outputs": [],
   "source": []
  },
  {
   "cell_type": "code",
   "execution_count": 21,
   "id": "serious-fourth",
   "metadata": {},
   "outputs": [],
   "source": [
    "# Creating the Bag of Words model using CountVectorizer()\n",
    "# This is equivalent to k-mer counting\n",
    "# The n-gram size of 4 was previously determined by testing\n",
    "\n",
    "from sklearn.feature_extraction.text import CountVectorizer\n",
    "cv = CountVectorizer(ngram_range=(4,4)) #The n-gram size of 4 is previously determined by testing\n",
    "X_hum = cv.fit_transform(human_texts)\n",
    "X_chimp = cv.transform(chimp_texts)\n",
    "X_dog = cv.transform(dog_texts)"
   ]
  },
  {
   "cell_type": "markdown",
   "id": "decreased-climate",
   "metadata": {},
   "source": [
    "Let us have a look at the output;"
   ]
  },
  {
   "cell_type": "code",
   "execution_count": 22,
   "id": "difficult-indication",
   "metadata": {},
   "outputs": [
    {
     "name": "stdout",
     "output_type": "stream",
     "text": [
      "(4380, 232414)\n",
      "(1682, 232414)\n",
      "(820, 232414)\n"
     ]
    }
   ],
   "source": [
    "print(X_hum.shape)\n",
    "print(X_chimp.shape)\n",
    "print(X_dog.shape)"
   ]
  },
  {
   "cell_type": "markdown",
   "id": "large-domestic",
   "metadata": {},
   "source": [
    "### Build a multinomial naive Bayes classifier\n",
    "\n",
    "Let's use the human data to train the model, holding out 20% of the human data to test the model. Then we can challenge the model’s generalizability by trying to predict sequence function in other species (the chimpanzee and dog).\n",
    "\n",
    "We split the data into train/test split human dataset and build simple multinomial naive Bayes classifier.\n",
    "\n",
    "For better models, you'll have to do parameter tuning and build a model with different ngram sizes. Let's first test out ngram size of 4 and a model alpha of 0.1.\n",
    "\n"
   ]
  },
  {
   "cell_type": "code",
   "execution_count": 23,
   "id": "inner-season",
   "metadata": {},
   "outputs": [
    {
     "data": {
      "text/plain": [
       "MultinomialNB(alpha=0.1)"
      ]
     },
     "execution_count": 23,
     "metadata": {},
     "output_type": "execute_result"
    }
   ],
   "source": [
    "# Splitting the human dataset into the training set and test set\n",
    "from sklearn.model_selection import train_test_split\n",
    "\n",
    "X_train, X_test, y_train, y_test = train_test_split(X_hum,\n",
    "                                                   y_human,\n",
    "                                                   test_size = 0.20,\n",
    "                                                   random_state=42)\n",
    "                                                   \n",
    "### Multinomial Naive Bayes Classifier ###\n",
    "from sklearn.naive_bayes import MultinomialNB\n",
    "classifier = MultinomialNB(alpha=0.1)\n",
    "classifier.fit(X_train, y_train)"
   ]
  },
  {
   "cell_type": "code",
   "execution_count": 24,
   "id": "inner-reform",
   "metadata": {},
   "outputs": [],
   "source": [
    "y_pred = classifier.predict(X_test)"
   ]
  },
  {
   "cell_type": "code",
   "execution_count": 25,
   "id": "processed-pharmacy",
   "metadata": {},
   "outputs": [
    {
     "data": {
      "text/plain": [
       "array([2, 0, 4, 6, 3, 6, 4, 2, 6, 6, 0, 6, 0, 6, 6, 6, 6, 1, 4, 1, 6, 3,\n",
       "       4, 4, 4, 6, 0, 6, 6, 6, 2, 6, 3, 6, 3, 0, 0, 6, 3, 4, 3, 0, 6, 5,\n",
       "       3, 0, 6, 6, 1, 2, 1, 3, 0, 5, 0, 5, 2, 6, 4, 1, 5, 1, 4, 4, 4, 4,\n",
       "       4, 3, 4, 2, 2, 3, 4, 5, 0, 3, 6, 1, 6, 1, 4, 1, 6, 3, 1, 6, 6, 4,\n",
       "       1, 2, 6, 3, 4, 3, 1, 1, 6, 6, 1, 1, 5, 1, 6, 3, 6, 4, 4, 1, 2, 0,\n",
       "       6, 3, 5, 4, 6, 6, 5, 6, 6, 6, 3, 0, 0, 4, 4, 1, 2, 0, 4, 6, 5, 2,\n",
       "       5, 6, 1, 2, 4, 4, 6, 1, 3, 2, 3, 5, 6, 6, 1, 5, 6, 4, 3, 6, 6, 6,\n",
       "       6, 2, 3, 6, 0, 6, 6, 3, 1, 0, 5, 2, 4, 2, 1, 4, 5, 4, 6, 6, 6, 6,\n",
       "       6, 3, 6, 4, 2, 2, 1, 1, 2, 6, 6, 6, 6, 0, 4, 0, 4, 2, 1, 2, 3, 0,\n",
       "       6, 4, 6, 1, 2, 1, 4, 4, 3, 5, 6, 6, 6, 0, 4, 1, 0, 1, 3, 3, 5, 0,\n",
       "       6, 0, 0, 6, 3, 0, 0, 6, 5, 2, 0, 1, 5, 3, 1, 1, 6, 6, 1, 3, 2, 4,\n",
       "       3, 6, 6, 3, 4, 6, 4, 4, 0, 3, 4, 3, 6, 1, 4, 6, 6, 6, 6, 0, 0, 6,\n",
       "       6, 6, 6, 4, 4, 3, 3, 1, 4, 6, 4, 6, 4, 2, 3, 2, 6, 3, 3, 6, 2, 6,\n",
       "       6, 1, 1, 5, 0, 5, 3, 1, 3, 6, 2, 2, 4, 1, 6, 6, 4, 4, 4, 4, 3, 6,\n",
       "       4, 4, 3, 3, 6, 3, 2, 6, 4, 2, 6, 0, 4, 3, 6, 3, 5, 6, 6, 6, 6, 1,\n",
       "       1, 1, 6, 1, 3, 5, 3, 4, 1, 6, 0, 1, 4, 5, 5, 5, 3, 0, 6, 4, 0, 0,\n",
       "       0, 6, 3, 4, 4, 1, 0, 3, 6, 5, 4, 3, 4, 3, 3, 4, 6, 2, 4, 6, 4, 5,\n",
       "       6, 0, 6, 1, 2, 1, 6, 4, 6, 1, 4, 6, 4, 0, 4, 6, 6, 6, 6, 0, 6, 3,\n",
       "       3, 6, 4, 6, 2, 6, 6, 6, 1, 0, 6, 3, 0, 4, 6, 6, 4, 6, 6, 6, 1, 6,\n",
       "       6, 1, 3, 0, 0, 2, 6, 0, 5, 6, 0, 4, 6, 3, 1, 4, 3, 6, 3, 2, 6, 2,\n",
       "       2, 6, 6, 5, 6, 3, 6, 4, 3, 6, 4, 6, 0, 3, 0, 2, 0, 5, 4, 4, 6, 0,\n",
       "       6, 2, 6, 4, 2, 1, 4, 6, 6, 6, 6, 0, 1, 0, 4, 6, 6, 4, 0, 1, 6, 4,\n",
       "       6, 6, 6, 2, 4, 6, 3, 6, 4, 4, 1, 5, 6, 4, 2, 6, 6, 6, 6, 6, 6, 5,\n",
       "       0, 0, 3, 6, 6, 1, 3, 6, 3, 2, 6, 6, 6, 6, 4, 6, 0, 1, 0, 1, 6, 6,\n",
       "       0, 2, 1, 4, 3, 0, 6, 6, 4, 0, 0, 5, 3, 4, 6, 3, 6, 6, 6, 0, 1, 3,\n",
       "       6, 1, 3, 6, 6, 4, 4, 4, 3, 0, 6, 1, 0, 6, 2, 2, 4, 3, 3, 0, 6, 4,\n",
       "       3, 6, 2, 0, 1, 6, 6, 4, 0, 5, 6, 5, 6, 3, 4, 5, 1, 6, 0, 6, 1, 1,\n",
       "       3, 6, 4, 6, 1, 3, 2, 2, 2, 2, 6, 2, 6, 1, 5, 5, 5, 1, 1, 6, 1, 1,\n",
       "       4, 4, 2, 1, 5, 4, 6, 2, 0, 6, 6, 3, 3, 6, 6, 6, 4, 2, 5, 1, 6, 0,\n",
       "       4, 6, 3, 1, 6, 4, 6, 6, 2, 6, 3, 6, 3, 6, 6, 0, 0, 6, 1, 6, 6, 3,\n",
       "       0, 0, 1, 3, 4, 4, 1, 3, 6, 4, 3, 2, 0, 0, 6, 4, 3, 4, 6, 2, 6, 2,\n",
       "       6, 5, 1, 2, 6, 4, 6, 6, 0, 1, 3, 6, 6, 4, 1, 3, 5, 4, 6, 6, 6, 0,\n",
       "       3, 4, 6, 4, 0, 3, 0, 0, 6, 3, 6, 1, 5, 3, 3, 6, 5, 6, 3, 2, 3, 6,\n",
       "       2, 1, 0, 2, 2, 1, 6, 1, 6, 3, 1, 6, 4, 6, 3, 6, 6, 6, 4, 3, 4, 1,\n",
       "       2, 3, 3, 6, 6, 0, 4, 6, 6, 3, 4, 6, 6, 6, 3, 6, 4, 3, 2, 4, 0, 6,\n",
       "       3, 4, 0, 0, 6, 4, 4, 3, 6, 6, 3, 0, 6, 3, 1, 5, 6, 4, 0, 1, 0, 1,\n",
       "       4, 1, 4, 1, 6, 1, 5, 4, 1, 6, 6, 0, 5, 1, 2, 3, 4, 0, 1, 4, 0, 6,\n",
       "       2, 1, 2, 3, 0, 2, 1, 5, 6, 6, 3, 6, 3, 2, 2, 1, 6, 6, 4, 2, 2, 3,\n",
       "       3, 4, 5, 6, 3, 4, 0, 4, 6, 0, 3, 3, 3, 3, 0, 4, 2, 4, 4, 6, 6, 2,\n",
       "       1, 6, 0, 6, 1, 5, 2, 6, 6, 4, 0, 4, 0, 4, 6, 3, 4, 3])"
      ]
     },
     "execution_count": 25,
     "metadata": {},
     "output_type": "execute_result"
    }
   ],
   "source": [
    "y_pred"
   ]
  },
  {
   "cell_type": "code",
   "execution_count": 26,
   "id": "potential-cement",
   "metadata": {},
   "outputs": [
    {
     "name": "stdout",
     "output_type": "stream",
     "text": [
      "Confusion matrix for predictions on human test DNA sequence\n",
      "\n",
      "Predicted   0    1   2    3    4   5    6\n",
      "Actual                                   \n",
      "0          99    0   0    0    1   0    2\n",
      "1           0  104   0    0    0   0    2\n",
      "2           0    0  78    0    0   0    0\n",
      "3           0    0   0  124    0   0    1\n",
      "4           1    0   0    0  143   0    5\n",
      "5           0    0   0    0    0  51    0\n",
      "6           1    0   0    1    0   0  263\n",
      "accuracy = 0.984 \n",
      "precision = 0.984 \n",
      "recall = 0.984 \n",
      "f1 = 0.984\n"
     ]
    }
   ],
   "source": [
    "from sklearn.metrics import accuracy_score, f1_score, precision_score, recall_score\n",
    "\n",
    "print(\"Confusion matrix for predictions on human test DNA sequence\\n\")\n",
    "\n",
    "print(pd.crosstab(pd.Series(y_test, name='Actual'), pd.Series(y_pred, name='Predicted')))\n",
    "\n",
    "def get_metrics(y_test, y_predicted):\n",
    "    accuracy = accuracy_score(y_test, y_predicted)\n",
    "    precision = precision_score(y_test, y_predicted, average='weighted')\n",
    "    recall = recall_score(y_test, y_predicted, average='weighted')\n",
    "    f1 = f1_score(y_test, y_predicted, average='weighted')\n",
    "    return accuracy, precision, recall, f1\n",
    "   \n",
    "accuracy, precision, recall, f1 = get_metrics(y_test, y_pred)\n",
    "\n",
    "print(\"accuracy = %.3f \\nprecision = %.3f \\nrecall = %.3f \\nf1 = %.3f\" % (accuracy, precision, recall, f1))"
   ]
  },
  {
   "cell_type": "code",
   "execution_count": 27,
   "id": "private-savings",
   "metadata": {},
   "outputs": [],
   "source": [
    "# Predicting the chimp, dog and worm sequences\n",
    "y_pred_chimp = classifier.predict(X_chimp)"
   ]
  },
  {
   "cell_type": "code",
   "execution_count": 28,
   "id": "passing-jefferson",
   "metadata": {},
   "outputs": [
    {
     "name": "stdout",
     "output_type": "stream",
     "text": [
      "Confusion matrix for predictions on Chimpanzee test DNA sequence\n",
      "\n",
      "Predicted    0    1    2    3    4    5    6\n",
      "Actual                                      \n",
      "0          232    0    0    0    0    0    2\n",
      "1            0  184    0    0    0    0    1\n",
      "2            0    0  144    0    0    0    0\n",
      "3            0    0    0  227    0    0    1\n",
      "4            2    0    0    0  254    0    5\n",
      "5            0    0    0    0    0  109    0\n",
      "6            0    0    0    0    0    0  521\n",
      "accuracy = 0.993 \n",
      "precision = 0.994 \n",
      "recall = 0.993 \n",
      "f1 = 0.993\n"
     ]
    }
   ],
   "source": [
    "# performance on chimpanzee genes\n",
    "print(\"Confusion matrix for predictions on Chimpanzee test DNA sequence\\n\")\n",
    "print(pd.crosstab(pd.Series(y_chim, name='Actual'), pd.Series(y_pred_chimp, name='Predicted')))\n",
    "accuracy, precision, recall, f1 = get_metrics(y_chim, y_pred_chimp)\n",
    "print(\"accuracy = %.3f \\nprecision = %.3f \\nrecall = %.3f \\nf1 = %.3f\" % (accuracy, precision, recall, f1))"
   ]
  },
  {
   "cell_type": "markdown",
   "id": "known-layer",
   "metadata": {},
   "source": [
    "#### Dog\n",
    "Now Let's have a look at the Dog sequences. "
   ]
  },
  {
   "cell_type": "code",
   "execution_count": 29,
   "id": "thrown-pitch",
   "metadata": {},
   "outputs": [],
   "source": [
    "y_pred_dog = classifier.predict(X_dog)"
   ]
  },
  {
   "cell_type": "code",
   "execution_count": 30,
   "id": "latest-costume",
   "metadata": {},
   "outputs": [
    {
     "name": "stdout",
     "output_type": "stream",
     "text": [
      "Confusion matrix for predictions on Dog test DNA sequence\n",
      "\n",
      "Predicted    0   1   2   3    4   5    6\n",
      "Actual                                  \n",
      "0          127   0   0   0    0   0    4\n",
      "1            0  63   0   0    1   0   11\n",
      "2            0   0  49   0    1   0   14\n",
      "3            1   0   0  81    2   0   11\n",
      "4            4   0   0   1  126   0    4\n",
      "5            4   0   0   0    1  53    2\n",
      "6            0   0   0   0    0   0  260\n",
      "accuracy = 0.926 \n",
      "precision = 0.934 \n",
      "recall = 0.926 \n",
      "f1 = 0.925\n"
     ]
    }
   ],
   "source": [
    "# performance on dog genes\n",
    "print(\"Confusion matrix for predictions on Dog test DNA sequence\\n\")\n",
    "print(pd.crosstab(pd.Series(y_dog, name='Actual'), pd.Series(y_pred_dog, name='Predicted')))\n",
    "accuracy, precision, recall, f1 = get_metrics(y_dog, y_pred_dog)\n",
    "print(\"accuracy = %.3f \\nprecision = %.3f \\nrecall = %.3f \\nf1 = %.3f\" % (accuracy, precision, recall, f1))"
   ]
  },
  {
   "cell_type": "markdown",
   "id": "standing-waste",
   "metadata": {},
   "source": [
    "The model seems to produce good results on human data. It also does on Chimpanzee which is because the Chimpanzee and humans share the same genetic hierarchy. The performance of the dog is not quite as good which is because the dog is more diverging from humans than the chimpanzee.\n",
    "\n",
    "#### Model generalization \n",
    "We can see the model performs consistently well. Although the accuracy may not be that high. Note that these may not be the best performance measures, but they do give a good idea. \n",
    "\n",
    "Recall our lecture on model perfomance? What do you think we can use to improve on model performance?\n",
    "\n",
    "<br>"
   ]
  },
  {
   "cell_type": "code",
   "execution_count": 31,
   "id": "worse-advisory",
   "metadata": {},
   "outputs": [],
   "source": [
    "from sklearn import svm"
   ]
  },
  {
   "cell_type": "code",
   "execution_count": 32,
   "id": "fixed-opposition",
   "metadata": {},
   "outputs": [
    {
     "name": "stdout",
     "output_type": "stream",
     "text": [
      "CPU times: user 1min 57s, sys: 602 ms, total: 1min 57s\n",
      "Wall time: 1min 58s\n"
     ]
    }
   ],
   "source": [
    "%%time\n",
    "clf = svm.SVC()\n",
    "clf.fit(X_train, y_train)\n",
    "pred_svm = clf.predict(X_test)"
   ]
  },
  {
   "cell_type": "code",
   "execution_count": 33,
   "id": "muslim-steam",
   "metadata": {},
   "outputs": [
    {
     "name": "stdout",
     "output_type": "stream",
     "text": [
      "accuracy = 0.806 \n",
      "precision = 0.879 \n",
      "recall = 0.806 \n",
      "f1 = 0.813\n"
     ]
    }
   ],
   "source": [
    "accuracy, precision, recall, f1 = get_metrics(y_test, pred_svm)\n",
    "\n",
    "print(\"accuracy = %.3f \\nprecision = %.3f \\nrecall = %.3f \\nf1 = %.3f\" % (accuracy, precision, recall, f1))"
   ]
  },
  {
   "cell_type": "code",
   "execution_count": 35,
   "id": "intellectual-karma",
   "metadata": {},
   "outputs": [
    {
     "name": "stdout",
     "output_type": "stream",
     "text": [
      "Fitting 5 folds for each of 25 candidates, totalling 125 fits\n",
      "[CV 1/5] END ........C=0.1, gamma=1, kernel=rbf;, score=0.308 total time= 1.4min\n",
      "[CV 2/5] END ........C=0.1, gamma=1, kernel=rbf;, score=0.308 total time= 1.4min\n",
      "[CV 3/5] END ........C=0.1, gamma=1, kernel=rbf;, score=0.308 total time= 1.4min\n",
      "[CV 4/5] END ........C=0.1, gamma=1, kernel=rbf;, score=0.307 total time= 1.4min\n",
      "[CV 5/5] END ........C=0.1, gamma=1, kernel=rbf;, score=0.307 total time= 1.4min\n",
      "[CV 1/5] END ......C=0.1, gamma=0.1, kernel=rbf;, score=0.308 total time= 1.4min\n",
      "[CV 2/5] END ......C=0.1, gamma=0.1, kernel=rbf;, score=0.308 total time= 1.4min\n",
      "[CV 3/5] END ......C=0.1, gamma=0.1, kernel=rbf;, score=0.308 total time= 1.5min\n",
      "[CV 4/5] END ......C=0.1, gamma=0.1, kernel=rbf;, score=0.307 total time= 1.5min\n",
      "[CV 5/5] END ......C=0.1, gamma=0.1, kernel=rbf;, score=0.307 total time= 1.4min\n",
      "[CV 1/5] END .....C=0.1, gamma=0.01, kernel=rbf;, score=0.334 total time= 1.4min\n",
      "[CV 2/5] END .....C=0.1, gamma=0.01, kernel=rbf;, score=0.324 total time= 1.4min\n",
      "[CV 3/5] END .....C=0.1, gamma=0.01, kernel=rbf;, score=0.338 total time= 1.4min\n",
      "[CV 4/5] END .....C=0.1, gamma=0.01, kernel=rbf;, score=0.325 total time= 1.4min\n",
      "[CV 5/5] END .....C=0.1, gamma=0.01, kernel=rbf;, score=0.334 total time= 1.4min\n",
      "[CV 1/5] END ....C=0.1, gamma=0.001, kernel=rbf;, score=0.347 total time= 1.3min\n",
      "[CV 2/5] END ....C=0.1, gamma=0.001, kernel=rbf;, score=0.348 total time= 1.4min\n",
      "[CV 3/5] END ....C=0.1, gamma=0.001, kernel=rbf;, score=0.359 total time= 1.4min\n",
      "[CV 4/5] END ....C=0.1, gamma=0.001, kernel=rbf;, score=0.338 total time= 1.4min\n",
      "[CV 5/5] END ....C=0.1, gamma=0.001, kernel=rbf;, score=0.347 total time= 1.4min\n",
      "[CV 1/5] END ...C=0.1, gamma=0.0001, kernel=rbf;, score=0.317 total time= 1.3min\n",
      "[CV 2/5] END ...C=0.1, gamma=0.0001, kernel=rbf;, score=0.317 total time= 1.3min\n",
      "[CV 3/5] END ...C=0.1, gamma=0.0001, kernel=rbf;, score=0.322 total time= 1.3min\n",
      "[CV 4/5] END ...C=0.1, gamma=0.0001, kernel=rbf;, score=0.315 total time= 1.3min\n",
      "[CV 5/5] END ...C=0.1, gamma=0.0001, kernel=rbf;, score=0.317 total time= 1.3min\n",
      "[CV 1/5] END ..........C=1, gamma=1, kernel=rbf;, score=0.458 total time= 1.5min\n",
      "[CV 2/5] END ..........C=1, gamma=1, kernel=rbf;, score=0.472 total time= 1.5min\n",
      "[CV 3/5] END ..........C=1, gamma=1, kernel=rbf;, score=0.481 total time= 1.5min\n",
      "[CV 4/5] END ..........C=1, gamma=1, kernel=rbf;, score=0.455 total time= 1.5min\n",
      "[CV 5/5] END ..........C=1, gamma=1, kernel=rbf;, score=0.469 total time= 1.5min\n",
      "[CV 1/5] END ........C=1, gamma=0.1, kernel=rbf;, score=0.468 total time= 1.4min\n",
      "[CV 2/5] END ........C=1, gamma=0.1, kernel=rbf;, score=0.482 total time= 1.5min\n",
      "[CV 3/5] END ........C=1, gamma=0.1, kernel=rbf;, score=0.489 total time= 1.5min\n",
      "[CV 4/5] END ........C=1, gamma=0.1, kernel=rbf;, score=0.462 total time= 1.5min\n",
      "[CV 5/5] END ........C=1, gamma=0.1, kernel=rbf;, score=0.476 total time= 1.5min\n",
      "[CV 1/5] END .......C=1, gamma=0.01, kernel=rbf;, score=0.588 total time= 1.6min\n",
      "[CV 2/5] END .......C=1, gamma=0.01, kernel=rbf;, score=0.606 total time= 1.6min\n",
      "[CV 3/5] END .......C=1, gamma=0.01, kernel=rbf;, score=0.603 total time= 1.6min\n",
      "[CV 4/5] END .......C=1, gamma=0.01, kernel=rbf;, score=0.599 total time= 1.6min\n",
      "[CV 5/5] END .......C=1, gamma=0.01, kernel=rbf;, score=0.606 total time= 1.7min\n",
      "[CV 1/5] END ......C=1, gamma=0.001, kernel=rbf;, score=0.815 total time= 1.5min\n",
      "[CV 2/5] END ......C=1, gamma=0.001, kernel=rbf;, score=0.783 total time= 1.6min\n",
      "[CV 3/5] END ......C=1, gamma=0.001, kernel=rbf;, score=0.769 total time= 1.6min\n",
      "[CV 4/5] END ......C=1, gamma=0.001, kernel=rbf;, score=0.792 total time= 1.6min\n",
      "[CV 5/5] END ......C=1, gamma=0.001, kernel=rbf;, score=0.763 total time= 1.7min\n",
      "[CV 1/5] END .....C=1, gamma=0.0001, kernel=rbf;, score=0.569 total time= 1.6min\n",
      "[CV 2/5] END .....C=1, gamma=0.0001, kernel=rbf;, score=0.539 total time= 1.6min\n",
      "[CV 3/5] END .....C=1, gamma=0.0001, kernel=rbf;, score=0.548 total time= 1.6min\n",
      "[CV 4/5] END .....C=1, gamma=0.0001, kernel=rbf;, score=0.541 total time= 1.5min\n",
      "[CV 5/5] END .....C=1, gamma=0.0001, kernel=rbf;, score=0.536 total time= 1.6min\n",
      "[CV 1/5] END .........C=10, gamma=1, kernel=rbf;, score=0.459 total time= 1.8min\n",
      "[CV 2/5] END .........C=10, gamma=1, kernel=rbf;, score=0.471 total time= 1.8min\n",
      "[CV 3/5] END .........C=10, gamma=1, kernel=rbf;, score=0.485 total time= 1.9min\n",
      "[CV 4/5] END .........C=10, gamma=1, kernel=rbf;, score=0.455 total time= 1.7min\n",
      "[CV 5/5] END .........C=10, gamma=1, kernel=rbf;, score=0.471 total time= 1.8min\n",
      "[CV 1/5] END .......C=10, gamma=0.1, kernel=rbf;, score=0.475 total time= 1.9min\n",
      "[CV 2/5] END .......C=10, gamma=0.1, kernel=rbf;, score=0.491 total time= 1.8min\n",
      "[CV 3/5] END .......C=10, gamma=0.1, kernel=rbf;, score=0.499 total time= 1.7min\n",
      "[CV 4/5] END .......C=10, gamma=0.1, kernel=rbf;, score=0.474 total time= 1.7min\n",
      "[CV 5/5] END .......C=10, gamma=0.1, kernel=rbf;, score=0.486 total time= 1.9min\n",
      "[CV 1/5] END ......C=10, gamma=0.01, kernel=rbf;, score=0.638 total time= 1.9min\n",
      "[CV 2/5] END ......C=10, gamma=0.01, kernel=rbf;, score=0.652 total time= 2.0min\n",
      "[CV 3/5] END ......C=10, gamma=0.01, kernel=rbf;, score=0.633 total time= 2.1min\n",
      "[CV 4/5] END ......C=10, gamma=0.01, kernel=rbf;, score=0.636 total time= 1.9min\n",
      "[CV 5/5] END ......C=10, gamma=0.01, kernel=rbf;, score=0.641 total time= 1.9min\n",
      "[CV 1/5] END .....C=10, gamma=0.001, kernel=rbf;, score=0.883 total time= 1.8min\n",
      "[CV 2/5] END .....C=10, gamma=0.001, kernel=rbf;, score=0.854 total time= 1.8min\n",
      "[CV 3/5] END .....C=10, gamma=0.001, kernel=rbf;, score=0.843 total time= 1.8min\n",
      "[CV 4/5] END .....C=10, gamma=0.001, kernel=rbf;, score=0.870 total time= 1.9min\n",
      "[CV 5/5] END .....C=10, gamma=0.001, kernel=rbf;, score=0.859 total time= 1.8min\n",
      "[CV 1/5] END ....C=10, gamma=0.0001, kernel=rbf;, score=0.866 total time= 1.3min\n",
      "[CV 2/5] END ....C=10, gamma=0.0001, kernel=rbf;, score=0.840 total time= 1.2min\n",
      "[CV 3/5] END ....C=10, gamma=0.0001, kernel=rbf;, score=0.815 total time= 1.0min\n",
      "[CV 4/5] END ....C=10, gamma=0.0001, kernel=rbf;, score=0.845 total time= 1.0min\n",
      "[CV 5/5] END ....C=10, gamma=0.0001, kernel=rbf;, score=0.826 total time= 1.1min\n",
      "[CV 1/5] END ........C=100, gamma=1, kernel=rbf;, score=0.459 total time= 1.4min\n",
      "[CV 2/5] END ........C=100, gamma=1, kernel=rbf;, score=0.471 total time= 1.5min\n",
      "[CV 3/5] END ........C=100, gamma=1, kernel=rbf;, score=0.485 total time= 1.6min\n",
      "[CV 4/5] END ........C=100, gamma=1, kernel=rbf;, score=0.455 total time= 1.4min\n",
      "[CV 5/5] END ........C=100, gamma=1, kernel=rbf;, score=0.471 total time= 1.4min\n",
      "[CV 1/5] END ......C=100, gamma=0.1, kernel=rbf;, score=0.475 total time= 1.4min\n",
      "[CV 2/5] END ......C=100, gamma=0.1, kernel=rbf;, score=0.491 total time= 1.5min\n",
      "[CV 3/5] END ......C=100, gamma=0.1, kernel=rbf;, score=0.499 total time= 1.4min\n",
      "[CV 4/5] END ......C=100, gamma=0.1, kernel=rbf;, score=0.474 total time= 1.4min\n",
      "[CV 5/5] END ......C=100, gamma=0.1, kernel=rbf;, score=0.486 total time= 1.4min\n",
      "[CV 1/5] END .....C=100, gamma=0.01, kernel=rbf;, score=0.635 total time= 1.4min\n",
      "[CV 2/5] END .....C=100, gamma=0.01, kernel=rbf;, score=0.653 total time= 1.5min\n",
      "[CV 3/5] END .....C=100, gamma=0.01, kernel=rbf;, score=0.635 total time= 1.4min\n",
      "[CV 4/5] END .....C=100, gamma=0.01, kernel=rbf;, score=0.636 total time= 1.4min\n",
      "[CV 5/5] END .....C=100, gamma=0.01, kernel=rbf;, score=0.639 total time= 1.4min\n",
      "[CV 1/5] END ....C=100, gamma=0.001, kernel=rbf;, score=0.879 total time= 1.4min\n",
      "[CV 2/5] END ....C=100, gamma=0.001, kernel=rbf;, score=0.849 total time= 1.4min\n",
      "[CV 3/5] END ....C=100, gamma=0.001, kernel=rbf;, score=0.845 total time= 1.4min\n",
      "[CV 4/5] END ....C=100, gamma=0.001, kernel=rbf;, score=0.864 total time= 1.3min\n",
      "[CV 5/5] END ....C=100, gamma=0.001, kernel=rbf;, score=0.861 total time= 1.3min\n",
      "[CV 1/5] END ...C=100, gamma=0.0001, kernel=rbf;, score=0.904 total time=  58.0s\n",
      "[CV 2/5] END ...C=100, gamma=0.0001, kernel=rbf;, score=0.880 total time= 1.0min\n",
      "[CV 3/5] END ...C=100, gamma=0.0001, kernel=rbf;, score=0.867 total time=  59.3s\n",
      "[CV 4/5] END ...C=100, gamma=0.0001, kernel=rbf;, score=0.890 total time= 1.0min\n",
      "[CV 5/5] END ...C=100, gamma=0.0001, kernel=rbf;, score=0.881 total time= 1.0min\n",
      "[CV 1/5] END .......C=1000, gamma=1, kernel=rbf;, score=0.459 total time= 1.4min\n",
      "[CV 2/5] END .......C=1000, gamma=1, kernel=rbf;, score=0.471 total time= 1.4min\n",
      "[CV 3/5] END .......C=1000, gamma=1, kernel=rbf;, score=0.485 total time= 1.5min\n",
      "[CV 4/5] END .......C=1000, gamma=1, kernel=rbf;, score=0.455 total time= 1.4min\n",
      "[CV 5/5] END .......C=1000, gamma=1, kernel=rbf;, score=0.471 total time= 1.4min\n",
      "[CV 1/5] END .....C=1000, gamma=0.1, kernel=rbf;, score=0.475 total time= 1.4min\n",
      "[CV 2/5] END .....C=1000, gamma=0.1, kernel=rbf;, score=0.491 total time= 1.4min\n",
      "[CV 3/5] END .....C=1000, gamma=0.1, kernel=rbf;, score=0.499 total time= 1.4min\n",
      "[CV 4/5] END .....C=1000, gamma=0.1, kernel=rbf;, score=0.474 total time= 1.4min\n",
      "[CV 5/5] END .....C=1000, gamma=0.1, kernel=rbf;, score=0.486 total time= 1.4min\n",
      "[CV 1/5] END ....C=1000, gamma=0.01, kernel=rbf;, score=0.633 total time= 1.4min\n",
      "[CV 2/5] END ....C=1000, gamma=0.01, kernel=rbf;, score=0.653 total time= 1.4min\n",
      "[CV 3/5] END ....C=1000, gamma=0.01, kernel=rbf;, score=0.632 total time= 1.4min\n",
      "[CV 4/5] END ....C=1000, gamma=0.01, kernel=rbf;, score=0.636 total time= 1.4min\n",
      "[CV 5/5] END ....C=1000, gamma=0.01, kernel=rbf;, score=0.639 total time= 1.4min\n",
      "[CV 1/5] END ...C=1000, gamma=0.001, kernel=rbf;, score=0.847 total time= 1.3min\n",
      "[CV 2/5] END ...C=1000, gamma=0.001, kernel=rbf;, score=0.826 total time= 1.3min\n",
      "[CV 3/5] END ...C=1000, gamma=0.001, kernel=rbf;, score=0.835 total time= 1.4min\n",
      "[CV 4/5] END ...C=1000, gamma=0.001, kernel=rbf;, score=0.863 total time= 1.4min\n",
      "[CV 5/5] END ...C=1000, gamma=0.001, kernel=rbf;, score=0.854 total time= 1.3min\n",
      "[CV 1/5] END ..C=1000, gamma=0.0001, kernel=rbf;, score=0.889 total time= 1.0min\n",
      "[CV 2/5] END ..C=1000, gamma=0.0001, kernel=rbf;, score=0.873 total time=  56.7s\n",
      "[CV 3/5] END ..C=1000, gamma=0.0001, kernel=rbf;, score=0.859 total time=  57.4s\n",
      "[CV 4/5] END ..C=1000, gamma=0.0001, kernel=rbf;, score=0.876 total time= 1.1min\n",
      "[CV 5/5] END ..C=1000, gamma=0.0001, kernel=rbf;, score=0.880 total time= 1.0min\n"
     ]
    },
    {
     "data": {
      "text/plain": [
       "GridSearchCV(estimator=SVC(),\n",
       "             param_grid={'C': [0.1, 1, 10, 100, 1000],\n",
       "                         'gamma': [1, 0.1, 0.01, 0.001, 0.0001],\n",
       "                         'kernel': ['rbf']},\n",
       "             verbose=3)"
      ]
     },
     "execution_count": 35,
     "metadata": {},
     "output_type": "execute_result"
    }
   ],
   "source": [
    "from sklearn.model_selection import GridSearchCV\n",
    "  \n",
    "# defining parameter range\n",
    "param_grid = {'C': [0.1, 1, 10, 100, 1000], \n",
    "              'gamma': [1, 0.1, 0.01, 0.001, 0.0001],\n",
    "              'kernel': ['rbf']} \n",
    "  \n",
    "grid = GridSearchCV(svm.SVC(), param_grid, refit = True, verbose = 3)\n",
    "  \n",
    "# fitting the model for grid search\n",
    "grid.fit(X_train, y_train)"
   ]
  },
  {
   "cell_type": "code",
   "execution_count": 36,
   "id": "metropolitan-albania",
   "metadata": {},
   "outputs": [
    {
     "name": "stdout",
     "output_type": "stream",
     "text": [
      "{'C': 100, 'gamma': 0.0001, 'kernel': 'rbf'}\n",
      "SVC(C=100, gamma=0.0001)\n"
     ]
    }
   ],
   "source": [
    "# print best parameter after tuning\n",
    "print(grid.best_params_)\n",
    "  \n",
    "# print how our model looks after hyper-parameter tuning\n",
    "print(grid.best_estimator_)"
   ]
  },
  {
   "cell_type": "code",
   "execution_count": 38,
   "id": "level-macintosh",
   "metadata": {},
   "outputs": [],
   "source": [
    "grid_predictions = grid.predict(X_test)\n",
    "  \n",
    "# print classification report\n",
    "#print(classification_report(y_test, grid_predictions))"
   ]
  },
  {
   "cell_type": "code",
   "execution_count": 39,
   "id": "drawn-referral",
   "metadata": {},
   "outputs": [
    {
     "name": "stdout",
     "output_type": "stream",
     "text": [
      "accuracy = 0.918 \n",
      "precision = 0.934 \n",
      "recall = 0.918 \n",
      "f1 = 0.919\n"
     ]
    }
   ],
   "source": [
    "accuracy, precision, recall, f1 = get_metrics(y_test, grid_predictions)\n",
    "\n",
    "print(\"accuracy = %.3f \\nprecision = %.3f \\nrecall = %.3f \\nf1 = %.3f\" % (accuracy, precision, recall, f1))"
   ]
  },
  {
   "cell_type": "markdown",
   "id": "intimate-september",
   "metadata": {},
   "source": [
    "### Some functions for training models using select algorithms"
   ]
  },
  {
   "cell_type": "code",
   "execution_count": 40,
   "id": "prime-swiss",
   "metadata": {},
   "outputs": [],
   "source": [
    "from sklearn.preprocessing import StandardScaler, MinMaxScaler\n",
    "scaler = MinMaxScaler()\n",
    "\n",
    "from sklearn.linear_model import SGDClassifier\n",
    "from sklearn.ensemble import GradientBoostingClassifier\n",
    "\n",
    "#Accuracy metrics\n",
    "from sklearn.metrics import accuracy_score, classification_report, auc\n",
    "\n",
    "from sklearn import feature_selection\n",
    "\n",
    "#from sklearn.externals import joblib\n",
    "\n",
    "#from xgboost import XGBClassifier\n",
    "\n",
    "#import xgboost as xgb\n",
    "\n",
    "def train_sgd(feature_frame, feature_frame_p, y_train, y_test):\n",
    "    scaler = MinMaxScaler()\n",
    "    #Scale the train data\n",
    "    scaler.fit(feature_frame) \n",
    "    X_train = scaler.transform(feature_frame)\n",
    "\n",
    "    #Scale the test data as well\n",
    "    scaler.fit(feature_frame_p)\n",
    "    X_test = scaler.transform(feature_frame_p)\n",
    "    \n",
    "    clf = SGDClassifier()\n",
    "    clf.fit(X_train, y_train)\n",
    "    pred_sgd = clf.predict(X_test)\n",
    "    \n",
    "    return roc_auc_score(y_test, pred_sgd)\n",
    "\n",
    "def train_svm(feature_frame, feature_frame_p, y_train, y_test):\n",
    "    scaler = MinMaxScaler()\n",
    "    #Scale the train data\n",
    "    scaler.fit(feature_frame) \n",
    "    X_train = scaler.transform(feature_frame)\n",
    "\n",
    "    #Scale the test data as well\n",
    "    scaler.fit(feature_frame_p)\n",
    "    X_test = scaler.transform(feature_frame_p)\n",
    "    \n",
    "    clf = svm.SVC()\n",
    "    clf.fit(X_train, y_train)\n",
    "    pred_svm = clf.predict(X_test)\n",
    "    \n",
    "    return roc_auc_score(y_test, pred_svm)\n",
    "\n",
    "def train_xgb(feature_frame,feature_frame_p,y_train, y_test):\n",
    "    \n",
    "    xgdmat = xgb.DMatrix(feature_frame, y_train) \n",
    "    our_params = {'eta': 0.3, 'seed':0, 'subsample': 1, 'colsample_bytree': 1, \n",
    "                 'objective': 'binary:logistic', 'max_depth':6, 'min_child_weight':1} \n",
    "    my_model = xgb.train(our_params,xgdmat)\n",
    "    testdmat = xgb.DMatrix(feature_frame_p, y_test)\n",
    "    y_pred = my_model.predict(testdmat)\n",
    "    \n",
    "    return roc_auc_score(y_test, y_pred)\n",
    "\n",
    "def train_gradient(feature_frame,feature_frame_p,y_train, y_test):\n",
    "    clf = GradientBoostingClassifier()\n",
    "    clf.fit(feature_frame, y_train)\n",
    "    pred_sgd = clf.predict(feature_frame_p)\n",
    "\n",
    "    return roc_auc_score(y_test, pred_sgd)"
   ]
  },
  {
   "cell_type": "code",
   "execution_count": 41,
   "id": "loved-kuwait",
   "metadata": {},
   "outputs": [],
   "source": [
    "from scipy.cluster.hierarchy import dendrogram,linkage"
   ]
  },
  {
   "cell_type": "code",
   "execution_count": 42,
   "id": "mineral-snake",
   "metadata": {},
   "outputs": [],
   "source": [
    "url =\"http://statweb.stanford.edu/~tibs/ElemStatLearn/datasets/nci.data\""
   ]
  },
  {
   "cell_type": "code",
   "execution_count": 43,
   "id": "owned-fluid",
   "metadata": {},
   "outputs": [],
   "source": [
    "labels = [\"CNS\",\"CNS\",\"CNS\",\"RENAL\",\"BREAST\",\"CNS\",\"CNS\",\"BREAST\",\"NSCLC\",\n",
    "          \"NSCLC\",\"RENAL\",\"RENAL\",\"RENAL\",\"RENAL\",\"RENAL\",\"RENAL\",\"RENAL\",\n",
    "          \"BREAST\",\"NSCLC\",\"RENAL\",\"UNKNOWN\",\"OVARIAN\",\"MELANOMA\",\"PROSTATE\",\n",
    "          \"OVARIAN\",\"OVARIAN\",\"OVARIAN\",\"OVARIAN\",\"OVARIAN\",\"PROSTATE\",\"NSCLC\",\n",
    "          \"NSCLC\",\"NSCLC\",\"LEUKEMIA\",\"K562B-repro\",\"K562A-repro\",\"LEUKEMIA\",\n",
    "          \"LEUKEMIA\",\"LEUKEMIA\",\"LEUKEMIA\",\"LEUKEMIA\",\"COLON\",\"COLON\",\"COLON\",\n",
    "          \"COLON\",\"COLON\",\"COLON\",\"COLON\",\"MCF7A-repro\",\"BREAST\",\"MCF7D-repro\",\n",
    "          \"BREAST\",\"NSCLC\",\"NSCLC\",\"NSCLC\",\"MELANOMA\",\"BREAST\",\"BREAST\",\"MELANOMA\",\n",
    "          \"MELANOMA\",\"MELANOMA\",\"MELANOMA\",\"MELANOMA\",\"MELANOMA\"]"
   ]
  },
  {
   "cell_type": "code",
   "execution_count": 44,
   "id": "liable-hindu",
   "metadata": {},
   "outputs": [
    {
     "data": {
      "text/plain": [
       "64"
      ]
     },
     "execution_count": 44,
     "metadata": {},
     "output_type": "execute_result"
    }
   ],
   "source": [
    "len(labels)"
   ]
  },
  {
   "cell_type": "code",
   "execution_count": 45,
   "id": "driven-enzyme",
   "metadata": {},
   "outputs": [],
   "source": [
    "ma =pd.read_csv(url, delimiter=\"\\s*\", engine=\"python\")"
   ]
  },
  {
   "cell_type": "code",
   "execution_count": 46,
   "id": "comic-wilderness",
   "metadata": {},
   "outputs": [
    {
     "data": {
      "text/html": [
       "<div>\n",
       "<style scoped>\n",
       "    .dataframe tbody tr th:only-of-type {\n",
       "        vertical-align: middle;\n",
       "    }\n",
       "\n",
       "    .dataframe tbody tr th {\n",
       "        vertical-align: top;\n",
       "    }\n",
       "\n",
       "    .dataframe thead th {\n",
       "        text-align: right;\n",
       "    }\n",
       "</style>\n",
       "<table border=\"1\" class=\"dataframe\">\n",
       "  <thead>\n",
       "    <tr style=\"text-align: right;\">\n",
       "      <th></th>\n",
       "      <th>Unnamed: 0</th>\n",
       "      <th>3</th>\n",
       "      <th>.</th>\n",
       "      <th>0</th>\n",
       "      <th>0.1</th>\n",
       "      <th>0.2</th>\n",
       "      <th>0.3</th>\n",
       "      <th>0.4</th>\n",
       "      <th>0.5</th>\n",
       "      <th>e</th>\n",
       "      <th>...</th>\n",
       "      <th>0.363</th>\n",
       "      <th>0.364</th>\n",
       "      <th>0.365</th>\n",
       "      <th>0.366</th>\n",
       "      <th>0.367</th>\n",
       "      <th>e.61</th>\n",
       "      <th>-.92</th>\n",
       "      <th>0.368</th>\n",
       "      <th>1.71</th>\n",
       "      <th>Unnamed: 862</th>\n",
       "    </tr>\n",
       "  </thead>\n",
       "  <tbody>\n",
       "    <tr>\n",
       "      <th>0</th>\n",
       "      <td>NaN</td>\n",
       "      <td>1</td>\n",
       "      <td>.</td>\n",
       "      <td>1</td>\n",
       "      <td>8</td>\n",
       "      <td>0</td>\n",
       "      <td>0</td>\n",
       "      <td>0</td>\n",
       "      <td>0</td>\n",
       "      <td>e</td>\n",
       "      <td>...</td>\n",
       "      <td>e</td>\n",
       "      <td>-</td>\n",
       "      <td>0</td>\n",
       "      <td>1</td>\n",
       "      <td>NaN</td>\n",
       "      <td>None</td>\n",
       "      <td>None</td>\n",
       "      <td>NaN</td>\n",
       "      <td>NaN</td>\n",
       "      <td>NaN</td>\n",
       "    </tr>\n",
       "    <tr>\n",
       "      <th>1</th>\n",
       "      <td>NaN</td>\n",
       "      <td>5</td>\n",
       "      <td>.</td>\n",
       "      <td>5</td>\n",
       "      <td>0</td>\n",
       "      <td>0</td>\n",
       "      <td>0</td>\n",
       "      <td>0</td>\n",
       "      <td>0</td>\n",
       "      <td>e</td>\n",
       "      <td>...</td>\n",
       "      <td>0</td>\n",
       "      <td>0</td>\n",
       "      <td>0</td>\n",
       "      <td>0</td>\n",
       "      <td>e</td>\n",
       "      <td>-</td>\n",
       "      <td>0</td>\n",
       "      <td>2.0</td>\n",
       "      <td>NaN</td>\n",
       "      <td>NaN</td>\n",
       "    </tr>\n",
       "    <tr>\n",
       "      <th>2</th>\n",
       "      <td>NaN</td>\n",
       "      <td>1</td>\n",
       "      <td>.</td>\n",
       "      <td>1</td>\n",
       "      <td>4</td>\n",
       "      <td>0</td>\n",
       "      <td>0</td>\n",
       "      <td>0</td>\n",
       "      <td>0</td>\n",
       "      <td>e</td>\n",
       "      <td>...</td>\n",
       "      <td>0</td>\n",
       "      <td>0</td>\n",
       "      <td>0</td>\n",
       "      <td>e</td>\n",
       "      <td>+</td>\n",
       "      <td>0</td>\n",
       "      <td>0</td>\n",
       "      <td>NaN</td>\n",
       "      <td>NaN</td>\n",
       "      <td>NaN</td>\n",
       "    </tr>\n",
       "    <tr>\n",
       "      <th>3</th>\n",
       "      <td>NaN</td>\n",
       "      <td>-</td>\n",
       "      <td>2</td>\n",
       "      <td>.</td>\n",
       "      <td>6</td>\n",
       "      <td>5</td>\n",
       "      <td>0</td>\n",
       "      <td>0</td>\n",
       "      <td>0</td>\n",
       "      <td>0</td>\n",
       "      <td>...</td>\n",
       "      <td>5</td>\n",
       "      <td>0</td>\n",
       "      <td>0</td>\n",
       "      <td>0</td>\n",
       "      <td>0</td>\n",
       "      <td>e</td>\n",
       "      <td>-</td>\n",
       "      <td>0.0</td>\n",
       "      <td>1.0</td>\n",
       "      <td>NaN</td>\n",
       "    </tr>\n",
       "    <tr>\n",
       "      <th>4</th>\n",
       "      <td>NaN</td>\n",
       "      <td>-</td>\n",
       "      <td>7</td>\n",
       "      <td>.</td>\n",
       "      <td>0</td>\n",
       "      <td>0</td>\n",
       "      <td>0</td>\n",
       "      <td>0</td>\n",
       "      <td>0</td>\n",
       "      <td>0</td>\n",
       "      <td>...</td>\n",
       "      <td>0</td>\n",
       "      <td>0</td>\n",
       "      <td>0</td>\n",
       "      <td>0</td>\n",
       "      <td>e</td>\n",
       "      <td>-</td>\n",
       "      <td>0</td>\n",
       "      <td>1.0</td>\n",
       "      <td>NaN</td>\n",
       "      <td>NaN</td>\n",
       "    </tr>\n",
       "    <tr>\n",
       "      <th>...</th>\n",
       "      <td>...</td>\n",
       "      <td>...</td>\n",
       "      <td>...</td>\n",
       "      <td>...</td>\n",
       "      <td>...</td>\n",
       "      <td>...</td>\n",
       "      <td>...</td>\n",
       "      <td>...</td>\n",
       "      <td>...</td>\n",
       "      <td>...</td>\n",
       "      <td>...</td>\n",
       "      <td>...</td>\n",
       "      <td>...</td>\n",
       "      <td>...</td>\n",
       "      <td>...</td>\n",
       "      <td>...</td>\n",
       "      <td>...</td>\n",
       "      <td>...</td>\n",
       "      <td>...</td>\n",
       "      <td>...</td>\n",
       "      <td>...</td>\n",
       "    </tr>\n",
       "    <tr>\n",
       "      <th>6824</th>\n",
       "      <td>NaN</td>\n",
       "      <td>-</td>\n",
       "      <td>3</td>\n",
       "      <td>.</td>\n",
       "      <td>0</td>\n",
       "      <td>0</td>\n",
       "      <td>0</td>\n",
       "      <td>0</td>\n",
       "      <td>0</td>\n",
       "      <td>0</td>\n",
       "      <td>...</td>\n",
       "      <td>0</td>\n",
       "      <td>0</td>\n",
       "      <td>0</td>\n",
       "      <td>e</td>\n",
       "      <td>-</td>\n",
       "      <td>0</td>\n",
       "      <td>1</td>\n",
       "      <td>NaN</td>\n",
       "      <td>NaN</td>\n",
       "      <td>NaN</td>\n",
       "    </tr>\n",
       "    <tr>\n",
       "      <th>6825</th>\n",
       "      <td>NaN</td>\n",
       "      <td>0</td>\n",
       "      <td>.</td>\n",
       "      <td>0</td>\n",
       "      <td>0</td>\n",
       "      <td>0</td>\n",
       "      <td>0</td>\n",
       "      <td>0</td>\n",
       "      <td>0</td>\n",
       "      <td>e</td>\n",
       "      <td>...</td>\n",
       "      <td>None</td>\n",
       "      <td>None</td>\n",
       "      <td>None</td>\n",
       "      <td>None</td>\n",
       "      <td>None</td>\n",
       "      <td>None</td>\n",
       "      <td>None</td>\n",
       "      <td>NaN</td>\n",
       "      <td>NaN</td>\n",
       "      <td>NaN</td>\n",
       "    </tr>\n",
       "    <tr>\n",
       "      <th>6826</th>\n",
       "      <td>NaN</td>\n",
       "      <td>2</td>\n",
       "      <td>.</td>\n",
       "      <td>8</td>\n",
       "      <td>0</td>\n",
       "      <td>0</td>\n",
       "      <td>0</td>\n",
       "      <td>0</td>\n",
       "      <td>0</td>\n",
       "      <td>e</td>\n",
       "      <td>...</td>\n",
       "      <td>0</td>\n",
       "      <td>0</td>\n",
       "      <td>0</td>\n",
       "      <td>0</td>\n",
       "      <td>e</td>\n",
       "      <td>-</td>\n",
       "      <td>0</td>\n",
       "      <td>1.0</td>\n",
       "      <td>NaN</td>\n",
       "      <td>NaN</td>\n",
       "    </tr>\n",
       "    <tr>\n",
       "      <th>6827</th>\n",
       "      <td>NaN</td>\n",
       "      <td>-</td>\n",
       "      <td>3</td>\n",
       "      <td>.</td>\n",
       "      <td>4</td>\n",
       "      <td>0</td>\n",
       "      <td>0</td>\n",
       "      <td>0</td>\n",
       "      <td>0</td>\n",
       "      <td>0</td>\n",
       "      <td>...</td>\n",
       "      <td>0</td>\n",
       "      <td>0</td>\n",
       "      <td>0</td>\n",
       "      <td>0</td>\n",
       "      <td>e</td>\n",
       "      <td>-</td>\n",
       "      <td>0</td>\n",
       "      <td>1.0</td>\n",
       "      <td>NaN</td>\n",
       "      <td>NaN</td>\n",
       "    </tr>\n",
       "    <tr>\n",
       "      <th>6828</th>\n",
       "      <td>NaN</td>\n",
       "      <td>-</td>\n",
       "      <td>1</td>\n",
       "      <td>.</td>\n",
       "      <td>9</td>\n",
       "      <td>3</td>\n",
       "      <td>0</td>\n",
       "      <td>0</td>\n",
       "      <td>0</td>\n",
       "      <td>0</td>\n",
       "      <td>...</td>\n",
       "      <td>0</td>\n",
       "      <td>0</td>\n",
       "      <td>NaN</td>\n",
       "      <td>None</td>\n",
       "      <td>None</td>\n",
       "      <td>None</td>\n",
       "      <td>None</td>\n",
       "      <td>NaN</td>\n",
       "      <td>NaN</td>\n",
       "      <td>NaN</td>\n",
       "    </tr>\n",
       "  </tbody>\n",
       "</table>\n",
       "<p>6829 rows × 863 columns</p>\n",
       "</div>"
      ],
      "text/plain": [
       "      Unnamed: 0  3  .  0  0.1  0.2  0.3  0.4  0.5  e  ... 0.363 0.364  0.365  \\\n",
       "0            NaN  1  .  1    8    0    0    0    0  e  ...     e     -      0   \n",
       "1            NaN  5  .  5    0    0    0    0    0  e  ...     0     0      0   \n",
       "2            NaN  1  .  1    4    0    0    0    0  e  ...     0     0      0   \n",
       "3            NaN  -  2  .    6    5    0    0    0  0  ...     5     0      0   \n",
       "4            NaN  -  7  .    0    0    0    0    0  0  ...     0     0      0   \n",
       "...          ... .. .. ..  ...  ...  ...  ...  ... ..  ...   ...   ...    ...   \n",
       "6824         NaN  -  3  .    0    0    0    0    0  0  ...     0     0      0   \n",
       "6825         NaN  0  .  0    0    0    0    0    0  e  ...  None  None   None   \n",
       "6826         NaN  2  .  8    0    0    0    0    0  e  ...     0     0      0   \n",
       "6827         NaN  -  3  .    4    0    0    0    0  0  ...     0     0      0   \n",
       "6828         NaN  -  1  .    9    3    0    0    0  0  ...     0     0    NaN   \n",
       "\n",
       "      0.366 0.367  e.61  -.92 0.368  1.71  Unnamed: 862  \n",
       "0         1   NaN  None  None   NaN   NaN           NaN  \n",
       "1         0     e     -     0   2.0   NaN           NaN  \n",
       "2         e     +     0     0   NaN   NaN           NaN  \n",
       "3         0     0     e     -   0.0   1.0           NaN  \n",
       "4         0     e     -     0   1.0   NaN           NaN  \n",
       "...     ...   ...   ...   ...   ...   ...           ...  \n",
       "6824      e     -     0     1   NaN   NaN           NaN  \n",
       "6825   None  None  None  None   NaN   NaN           NaN  \n",
       "6826      0     e     -     0   1.0   NaN           NaN  \n",
       "6827      0     e     -     0   1.0   NaN           NaN  \n",
       "6828   None  None  None  None   NaN   NaN           NaN  \n",
       "\n",
       "[6829 rows x 863 columns]"
      ]
     },
     "execution_count": 46,
     "metadata": {},
     "output_type": "execute_result"
    }
   ],
   "source": [
    "ma"
   ]
  },
  {
   "cell_type": "code",
   "execution_count": null,
   "id": "returning-strength",
   "metadata": {},
   "outputs": [],
   "source": []
  }
 ],
 "metadata": {
  "kernelspec": {
   "display_name": "Python 3",
   "language": "python",
   "name": "python3"
  },
  "language_info": {
   "codemirror_mode": {
    "name": "ipython",
    "version": 3
   },
   "file_extension": ".py",
   "mimetype": "text/x-python",
   "name": "python",
   "nbconvert_exporter": "python",
   "pygments_lexer": "ipython3",
   "version": "3.9.2"
  }
 },
 "nbformat": 4,
 "nbformat_minor": 5
}
